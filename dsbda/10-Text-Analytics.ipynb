{
 "cells": [
  {
   "cell_type": "markdown",
   "id": "c0a1639e-32fc-418b-a33f-0dca885b9a22",
   "metadata": {},
   "source": [
    "# Assignment 10  \n",
    "## Text Analytics\n",
    "\n",
    "**Objective:**  \n",
    "Extract a sample document and apply the following document preprocessing methods:\n",
    "\n",
    "- **Tokenization**\n",
    "- **POS (Part-of-Speech) Tagging**\n",
    "- **Stop Words Removal**\n",
    "- **Stemming**\n",
    "- **Lemmatization**\n",
    "\n",
    "**Task:**  \n",
    "Create a representation of the document by calculating:\n",
    "\n",
    "- **Term Frequency (TF)**\n",
    "- **Inverse Document Frequency (IDF)**\n"
   ]
  },
  {
   "cell_type": "code",
   "execution_count": 2,
   "id": "6cd722e7-0a96-47f3-a14c-7ec42ed3a170",
   "metadata": {},
   "outputs": [],
   "source": [
    "import math, nltk"
   ]
  },
  {
   "cell_type": "code",
   "execution_count": 13,
   "id": "aa569178-677f-4bc4-b444-36baac38e8a2",
   "metadata": {},
   "outputs": [],
   "source": [
    "with open('doc_01.txt', 'r') as file:\n",
    "    doc = file.read()\n",
    "\n",
    "with open('doc_02.txt', 'r') as file:\n",
    "    doc2 = file.read()"
   ]
  },
  {
   "cell_type": "code",
   "execution_count": 17,
   "id": "35081f3e-b689-48c2-8488-79fa28326857",
   "metadata": {},
   "outputs": [
    {
     "data": {
      "text/plain": [
       "'Between 2016 and 2019, the state forest department under theÂ\\xa0BJPÂ\\xa0government had launched â€˜Green Maharashtraâ€™ drive with an aim to plant 50 crore trees across the state in the four-year period. In October 2019, the government had claimed it had surpassed the target by planting 33 crore trees in July-September 2019.Â\\xa0The Indian ExpressÂ\\xa0had found that non-forest agencies â€” such as gram panchayats â€” which were tasked with planting trees had not uploaded the mandatory audio-visual proof of the tree plantation drives on the specially created portal.\\nIn Pune Revenue Division, it was claimed the gram panchayats planted 1.7 crore saplings; however, no evidence was uploaded for 87 per cent (1.49 crore) saplings. Also, out of the 59 government agencies involved in the drive as many as 38 had not submitted survival reports about the saplings.\\nThis year, the targets set by the forest department were comparatively modest. For example, Pune Circle â€” which comprises three divisions in Pune and Solapur district â€” had planned to plant 17 lakh saplings on forest land. However, it may not meet the target due to unavailability of funds. Last year Pune Circle planted 70 lakh saplings on forest land.\\nIn Pune Division â€” which comprises six talukas namely Maval, Mulshi, Daund, Indapur, Baramati and Havveli â€” preparations were done for plantation of about 4 lakh trees with special emphasis on teakwood.\\nThe National Forest Policy aims and emphasizes at maintaining 33% of the countryâ€™s geographical area under forest and green cover. In view of this and as a part of the 50 crore plantation programme within Maharashtra, the Maharashtra Forest Department aims to plant 4 crore saplings all over the State betweenÂ\\xa01st to July 7th, 2017Â\\xa0to celebrateÂ\\xa0â€˜Vanmohotsavâ€™.\\nÂ\\xa0\\nThe plantation programme, which was announced in 2016 with the aim of plantingÂ\\xa02 crore trees on 1stÂ\\xa0July 2016 was a resounding success with the final total reported figure ofÂ\\xa02.82 crore saplings plantedÂ\\xa0on a single day. To maintain consistency of this platform without affecting its momentum, the Forest Department has set the target of plantation of 4 crore, 13 crore and 33 crore saplings under the mission of 50 crore plantation which shall be accomplished in the three consecutive years viz. 2017, 2018 and 2019.\\nÂ\\xa0\\nTheÂ\\xa04 croreÂ\\xa0saplings for the year 2017 will be planted during the Vanmohotsav,Â\\xa0July 1st to July 7thÂ\\xa0in a state-wide driveÂ\\xa0with the involvement of 33 government departments along with Students of Schools and Colleges, NSS, NCC, CSR, NGOs, Railways, National Highways, Defence, NABARD and other stakeholders of Society.\\nÂ\\xa0\\nIn a first of its kind, aÂ\\xa024-hourÂ\\xa0toll freeÂ\\xa0helpline number 1926Â\\xa0called â€˜Hello Forestâ€™ has been set up to provide information regarding plantation, protection and for mass awareness. The Forest Department has created aÂ\\xa0mobile application called â€˜My Plantsâ€™Â\\xa0to record details of the plantation such as numbers, species and location into the computer system of the Forest Department. All volunteers at individual, collective and organizational level should download and use this application to record their tree plantation work through the application, which will be operational from 1stÂ\\xa0July to 7thÂ\\xa0July.Â\\xa0\\nÂ\\xa0\\nIn consonance of the public participation, the Maharashtra Forest Department has initiated the â€˜Maharashtra Harit Senaâ€™/ â€˜Green Armyâ€™ which is a body of dedicated volunteers to participate in the plantation, protection, and activities in forest, wildlife, and related sectors around the year. Individuals and organisations interested in volunteering can register on the Green Army websiteÂ\\xa0www.greenarmy.mahaforest.gov.in\\nÂ\\xa0\\nAn integrated drive has been set in place to ensure seamless and successful participation from all stakeholders of society, especially the public.\\n\\n'"
      ]
     },
     "execution_count": 17,
     "metadata": {},
     "output_type": "execute_result"
    }
   ],
   "source": [
    "doc"
   ]
  },
  {
   "cell_type": "code",
   "execution_count": 19,
   "id": "9b9f51db-edca-4ede-9c50-b4c96ef6c2a8",
   "metadata": {},
   "outputs": [
    {
     "data": {
      "text/plain": [
       "'Millions of people in India took part in an annual tree planting drive Sunday. More than 250 million saplings were planted in a single day across the country\\'s most-populous state.\\nThe campaign was led by Uttar Pradesh state government officials, lawmakers, and activists, in a bid to reduce carbon emissions and combat climate change.\\nWhere were the trees planted?\\nThe saplings were planted by volunteers in forests, farms, schools, and along riverbanks and highways.\\n\"We are committed to increasing the forest cover of Uttar Pradesh to over 15% of the total land area in the next five years,\\'\\' said state forest official Manoj Singh.\\nAccording to another government official, the forest cover of the state has increased over the last few years.\\n\"There has been an increase of 127 sqare kilometers [79 sqare miles]Â\\xa0in the forest cover in Uttar Pradesh as compared to 2017,\" a state government spokesperson was quoted as saying inÂ\\xa0The Indian Express newspaper.\\n\"There has also been an increase in trees and plants. The tree cover has increased to 3.05%, as compared to the national average of 2.89%,\" the official said, citing the 2019 Forest Survey of India report.\\nHow many saplings survive?\\nUttar Pradesh State Forest Minister Dara Singh said the long-term survival of the saplings remains a concern, adding that usually only 60% of the saplings survive. The rest succumb to disease or lack of water.\\nHowever, he said thatÂ\\xa0about 80% of the saplings planted in the last four annual drives have survived.\\n\"All the regions where plantation is being carried out have been geo-tagged so that we can ascertain what exactly happened,\" Chauhan told The Pioneer newspaper.\\n\"These saplings carry QR codes so that officials can maintain a record and verify whether the saplings survived or not. Besides, teams have been formed to monitor progress of the plantation drive,\" he said.\\nWhat is the extent of India\\'s tree planting project?\\nIndia has vowed to have a third of its total land area, or 95 million hectares, under forest and tree cover by 2030.\\nThe government has allocated $6.2 billion (â‚¬5.2 billion) for the tree-planting across the country.\\nHowever, industrial development and a rapidly growing population has put further stress on the land.\\n\\n'"
      ]
     },
     "execution_count": 19,
     "metadata": {},
     "output_type": "execute_result"
    }
   ],
   "source": [
    "doc2"
   ]
  },
  {
   "cell_type": "markdown",
   "id": "10f9e7c2-e5c4-4bff-b308-4cf926cccd17",
   "metadata": {},
   "source": [
    "### Tokenisationks"
   ]
  },
  {
   "cell_type": "code",
   "execution_count": 58,
   "id": "4ab64c18-3480-4ae0-8ddd-09215db8ac49",
   "metadata": {},
   "outputs": [
    {
     "name": "stdout",
     "output_type": "stream",
     "text": [
      "['Between 2016 and 2019, the state forest department under theÂ\\xa0BJPÂ\\xa0government had launched â€˜Green Maharashtraâ€™ drive with an aim to plant 50 crore trees across the state in the four-year period.', 'In October 2019, the government had claimed it had surpassed the target by planting 33 crore trees in July-September 2019.Â\\xa0The Indian ExpressÂ\\xa0had found that non-forest agencies â€” such as gram panchayats â€” which were tasked with planting trees had not uploaded the mandatory audio-visual proof of the tree plantation drives on the specially created portal.', 'In Pune Revenue Division, it was claimed the gram panchayats planted 1.7 crore saplings; however, no evidence was uploaded for 87 per cent (1.49 crore) saplings.', 'Also, out of the 59 government agencies involved in the drive as many as 38 had not submitted survival reports about the saplings.', 'This year, the targets set by the forest department were comparatively modest.', 'For example, Pune Circle â€” which comprises three divisions in Pune and Solapur district â€” had planned to plant 17 lakh saplings on forest land.', 'However, it may not meet the target due to unavailability of funds.', 'Last year Pune Circle planted 70 lakh saplings on forest land.', 'In Pune Division â€” which comprises six talukas namely Maval, Mulshi, Daund, Indapur, Baramati and Havveli â€” preparations were done for plantation of about 4 lakh trees with special emphasis on teakwood.', 'The National Forest Policy aims and emphasizes at maintaining 33% of the countryâ€™s geographical area under forest and green cover.', 'In view of this and as a part of the 50 crore plantation programme within Maharashtra, the Maharashtra Forest Department aims to plant 4 crore saplings all over the State betweenÂ\\xa01st to July 7th, 2017Â\\xa0to celebrateÂ\\xa0â€˜Vanmohotsavâ€™.', 'Â\\xa0\\nThe plantation programme, which was announced in 2016 with the aim of plantingÂ\\xa02 crore trees on 1stÂ\\xa0July 2016 was a resounding success with the final total reported figure ofÂ\\xa02.82 crore saplings plantedÂ\\xa0on a single day.', 'To maintain consistency of this platform without affecting its momentum, the Forest Department has set the target of plantation of 4 crore, 13 crore and 33 crore saplings under the mission of 50 crore plantation which shall be accomplished in the three consecutive years viz.', '2017, 2018 and 2019.', 'Â\\xa0\\nTheÂ\\xa04 croreÂ\\xa0saplings for the year 2017 will be planted during the Vanmohotsav,Â\\xa0July 1st to July 7thÂ\\xa0in a state-wide driveÂ\\xa0with the involvement of 33 government departments along with Students of Schools and Colleges, NSS, NCC, CSR, NGOs, Railways, National Highways, Defence, NABARD and other stakeholders of Society.', 'Â\\xa0\\nIn a first of its kind, aÂ\\xa024-hourÂ\\xa0toll freeÂ\\xa0helpline number 1926Â\\xa0called â€˜Hello Forestâ€™ has been set up to provide information regarding plantation, protection and for mass awareness.', 'The Forest Department has created aÂ\\xa0mobile application called â€˜My Plantsâ€™Â\\xa0to record details of the plantation such as numbers, species and location into the computer system of the Forest Department.', 'All volunteers at individual, collective and organizational level should download and use this application to record their tree plantation work through the application, which will be operational from 1stÂ\\xa0July to 7thÂ\\xa0July.Â\\xa0\\nÂ\\xa0\\nIn consonance of the public participation, the Maharashtra Forest Department has initiated the â€˜Maharashtra Harit Senaâ€™/ â€˜Green Armyâ€™ which is a body of dedicated volunteers to participate in the plantation, protection, and activities in forest, wildlife, and related sectors around the year.', 'Individuals and organisations interested in volunteering can register on the Green Army websiteÂ\\xa0www.greenarmy.mahaforest.gov.in\\nÂ\\xa0\\nAn integrated drive has been set in place to ensure seamless and successful participation from all stakeholders of society, especially the public.']\n"
     ]
    }
   ],
   "source": [
    "from nltk.tokenize import sent_tokenize\n",
    "sentences = sent_tokenize(doc)\n",
    "print(sentences)"
   ]
  },
  {
   "cell_type": "code",
   "execution_count": 155,
   "id": "1ee76e58-570d-49d4-8768-44963565b798",
   "metadata": {},
   "outputs": [
    {
     "name": "stdout",
     "output_type": "stream",
     "text": [
      "['Millions of people in India took part in an annual tree planting drive Sunday.', \"More than 250 million saplings were planted in a single day across the country's most-populous state.\", 'The campaign was led by Uttar Pradesh state government officials, lawmakers, and activists, in a bid to reduce carbon emissions and combat climate change.', 'Where were the trees planted?', 'The saplings were planted by volunteers in forests, farms, schools, and along riverbanks and highways.', '\"We are committed to increasing the forest cover of Uttar Pradesh to over 15% of the total land area in the next five years,\\'\\' said state forest official Manoj Singh.', 'According to another government official, the forest cover of the state has increased over the last few years.', '\"There has been an increase of 127 sqare kilometers [79 sqare miles]Â\\xa0in the forest cover in Uttar Pradesh as compared to 2017,\" a state government spokesperson was quoted as saying inÂ\\xa0The Indian Express newspaper.', '\"There has also been an increase in trees and plants.', 'The tree cover has increased to 3.05%, as compared to the national average of 2.89%,\" the official said, citing the 2019 Forest Survey of India report.', 'How many saplings survive?', 'Uttar Pradesh State Forest Minister Dara Singh said the long-term survival of the saplings remains a concern, adding that usually only 60% of the saplings survive.', 'The rest succumb to disease or lack of water.', 'However, he said thatÂ\\xa0about 80% of the saplings planted in the last four annual drives have survived.', '\"All the regions where plantation is being carried out have been geo-tagged so that we can ascertain what exactly happened,\" Chauhan told The Pioneer newspaper.', '\"These saplings carry QR codes so that officials can maintain a record and verify whether the saplings survived or not.', 'Besides, teams have been formed to monitor progress of the plantation drive,\" he said.', \"What is the extent of India's tree planting project?\", 'India has vowed to have a third of its total land area, or 95 million hectares, under forest and tree cover by 2030.', 'The government has allocated $6.2 billion (â‚¬5.2 billion) for the tree-planting across the country.', 'However, industrial development and a rapidly growing population has put further stress on the land.']\n"
     ]
    }
   ],
   "source": [
    "sentences2 = sent_tokenize(doc2)\n",
    "print(sentences2)"
   ]
  },
  {
   "cell_type": "code",
   "execution_count": 46,
   "id": "6b2867df-8a16-482f-971a-7682af4fb2ce",
   "metadata": {},
   "outputs": [
    {
     "name": "stdout",
     "output_type": "stream",
     "text": [
      "['Between', '2016', 'and', '2019', ',', 'the', 'state', 'forest', 'department', 'under', 'theÂ', 'BJPÂ', 'government', 'had', 'launched', 'â€˜Green', 'Maharashtraâ€™', 'drive', 'with', 'an', 'aim', 'to', 'plant', '50', 'crore', 'trees', 'across', 'the', 'state', 'in', 'the', 'four-year', 'period', '.', 'In', 'October', '2019', ',', 'the', 'government', 'had', 'claimed', 'it', 'had', 'surpassed', 'the', 'target', 'by', 'planting', '33', 'crore', 'trees', 'in', 'July-September', '2019.Â', 'The', 'Indian', 'ExpressÂ', 'had', 'found', 'that', 'non-forest', 'agencies', 'â€', '”', 'such', 'as', 'gram', 'panchayats', 'â€', '”', 'which', 'were', 'tasked', 'with', 'planting', 'trees', 'had', 'not', 'uploaded', 'the', 'mandatory', 'audio-visual', 'proof', 'of', 'the', 'tree', 'plantation', 'drives', 'on', 'the', 'specially', 'created', 'portal', '.', 'In', 'Pune', 'Revenue', 'Division', ',', 'it', 'was', 'claimed', 'the', 'gram', 'panchayats', 'planted', '1.7', 'crore', 'saplings', ';', 'however', ',', 'no', 'evidence', 'was', 'uploaded', 'for', '87', 'per', 'cent', '(', '1.49', 'crore', ')', 'saplings', '.', 'Also', ',', 'out', 'of', 'the', '59', 'government', 'agencies', 'involved', 'in', 'the', 'drive', 'as', 'many', 'as', '38', 'had', 'not', 'submitted', 'survival', 'reports', 'about', 'the', 'saplings', '.', 'This', 'year', ',', 'the', 'targets', 'set', 'by', 'the', 'forest', 'department', 'were', 'comparatively', 'modest', '.', 'For', 'example', ',', 'Pune', 'Circle', 'â€', '”', 'which', 'comprises', 'three', 'divisions', 'in', 'Pune', 'and', 'Solapur', 'district', 'â€', '”', 'had', 'planned', 'to', 'plant', '17', 'lakh', 'saplings', 'on', 'forest', 'land', '.', 'However', ',', 'it', 'may', 'not', 'meet', 'the', 'target', 'due', 'to', 'unavailability', 'of', 'funds', '.', 'Last', 'year', 'Pune', 'Circle', 'planted', '70', 'lakh', 'saplings', 'on', 'forest', 'land', '.', 'In', 'Pune', 'Division', 'â€', '”', 'which', 'comprises', 'six', 'talukas', 'namely', 'Maval', ',', 'Mulshi', ',', 'Daund', ',', 'Indapur', ',', 'Baramati', 'and', 'Havveli', 'â€', '”', 'preparations', 'were', 'done', 'for', 'plantation', 'of', 'about', '4', 'lakh', 'trees', 'with', 'special', 'emphasis', 'on', 'teakwood', '.', 'The', 'National', 'Forest', 'Policy', 'aims', 'and', 'emphasizes', 'at', 'maintaining', '33', '%', 'of', 'the', 'countryâ€™s', 'geographical', 'area', 'under', 'forest', 'and', 'green', 'cover', '.', 'In', 'view', 'of', 'this', 'and', 'as', 'a', 'part', 'of', 'the', '50', 'crore', 'plantation', 'programme', 'within', 'Maharashtra', ',', 'the', 'Maharashtra', 'Forest', 'Department', 'aims', 'to', 'plant', '4', 'crore', 'saplings', 'all', 'over', 'the', 'State', 'betweenÂ', '1st', 'to', 'July', '7th', ',', '2017Â', 'to', 'celebrateÂ', 'â€˜Vanmohotsavâ€™', '.', 'Â', 'The', 'plantation', 'programme', ',', 'which', 'was', 'announced', 'in', '2016', 'with', 'the', 'aim', 'of', 'plantingÂ', '2', 'crore', 'trees', 'on', '1stÂ', 'July', '2016', 'was', 'a', 'resounding', 'success', 'with', 'the', 'final', 'total', 'reported', 'figure', 'ofÂ', '2.82', 'crore', 'saplings', 'plantedÂ', 'on', 'a', 'single', 'day', '.', 'To', 'maintain', 'consistency', 'of', 'this', 'platform', 'without', 'affecting', 'its', 'momentum', ',', 'the', 'Forest', 'Department', 'has', 'set', 'the', 'target', 'of', 'plantation', 'of', '4', 'crore', ',', '13', 'crore', 'and', '33', 'crore', 'saplings', 'under', 'the', 'mission', 'of', '50', 'crore', 'plantation', 'which', 'shall', 'be', 'accomplished', 'in', 'the', 'three', 'consecutive', 'years', 'viz', '.', '2017', ',', '2018', 'and', '2019', '.', 'Â', 'TheÂ', '4', 'croreÂ', 'saplings', 'for', 'the', 'year', '2017', 'will', 'be', 'planted', 'during', 'the', 'Vanmohotsav', ',', 'Â', 'July', '1st', 'to', 'July', '7thÂ', 'in', 'a', 'state-wide', 'driveÂ', 'with', 'the', 'involvement', 'of', '33', 'government', 'departments', 'along', 'with', 'Students', 'of', 'Schools', 'and', 'Colleges', ',', 'NSS', ',', 'NCC', ',', 'CSR', ',', 'NGOs', ',', 'Railways', ',', 'National', 'Highways', ',', 'Defence', ',', 'NABARD', 'and', 'other', 'stakeholders', 'of', 'Society', '.', 'Â', 'In', 'a', 'first', 'of', 'its', 'kind', ',', 'aÂ', '24-hourÂ', 'toll', 'freeÂ', 'helpline', 'number', '1926Â', 'called', 'â€˜Hello', 'Forestâ€™', 'has', 'been', 'set', 'up', 'to', 'provide', 'information', 'regarding', 'plantation', ',', 'protection', 'and', 'for', 'mass', 'awareness', '.', 'The', 'Forest', 'Department', 'has', 'created', 'aÂ', 'mobile', 'application', 'called', 'â€˜My', 'Plantsâ€™Â', 'to', 'record', 'details', 'of', 'the', 'plantation', 'such', 'as', 'numbers', ',', 'species', 'and', 'location', 'into', 'the', 'computer', 'system', 'of', 'the', 'Forest', 'Department', '.', 'All', 'volunteers', 'at', 'individual', ',', 'collective', 'and', 'organizational', 'level', 'should', 'download', 'and', 'use', 'this', 'application', 'to', 'record', 'their', 'tree', 'plantation', 'work', 'through', 'the', 'application', ',', 'which', 'will', 'be', 'operational', 'from', '1stÂ', 'July', 'to', '7thÂ', 'July.Â', 'Â', 'In', 'consonance', 'of', 'the', 'public', 'participation', ',', 'the', 'Maharashtra', 'Forest', 'Department', 'has', 'initiated', 'the', 'â€˜Maharashtra', 'Harit', 'Senaâ€™/', 'â€˜Green', 'Armyâ€™', 'which', 'is', 'a', 'body', 'of', 'dedicated', 'volunteers', 'to', 'participate', 'in', 'the', 'plantation', ',', 'protection', ',', 'and', 'activities', 'in', 'forest', ',', 'wildlife', ',', 'and', 'related', 'sectors', 'around', 'the', 'year', '.', 'Individuals', 'and', 'organisations', 'interested', 'in', 'volunteering', 'can', 'register', 'on', 'the', 'Green', 'Army', 'websiteÂ', 'www.greenarmy.mahaforest.gov.in', 'Â', 'An', 'integrated', 'drive', 'has', 'been', 'set', 'in', 'place', 'to', 'ensure', 'seamless', 'and', 'successful', 'participation', 'from', 'all', 'stakeholders', 'of', 'society', ',', 'especially', 'the', 'public', '.']\n"
     ]
    }
   ],
   "source": [
    "word_tokens = nltk.word_tokenize(doc)\n",
    "print(word_tokens)"
   ]
  },
  {
   "cell_type": "code",
   "execution_count": 157,
   "id": "4b5c727a-1444-44d7-9a3d-8931aadb224f",
   "metadata": {},
   "outputs": [
    {
     "name": "stdout",
     "output_type": "stream",
     "text": [
      "['Millions', 'of', 'people', 'in', 'India', 'took', 'part', 'in', 'an', 'annual', 'tree', 'planting', 'drive', 'Sunday', '.', 'More', 'than', '250', 'million', 'saplings', 'were', 'planted', 'in', 'a', 'single', 'day', 'across', 'the', 'country', \"'s\", 'most-populous', 'state', '.', 'The', 'campaign', 'was', 'led', 'by', 'Uttar', 'Pradesh', 'state', 'government', 'officials', ',', 'lawmakers', ',', 'and', 'activists', ',', 'in', 'a', 'bid', 'to', 'reduce', 'carbon', 'emissions', 'and', 'combat', 'climate', 'change', '.', 'Where', 'were', 'the', 'trees', 'planted', '?', 'The', 'saplings', 'were', 'planted', 'by', 'volunteers', 'in', 'forests', ',', 'farms', ',', 'schools', ',', 'and', 'along', 'riverbanks', 'and', 'highways', '.', '``', 'We', 'are', 'committed', 'to', 'increasing', 'the', 'forest', 'cover', 'of', 'Uttar', 'Pradesh', 'to', 'over', '15', '%', 'of', 'the', 'total', 'land', 'area', 'in', 'the', 'next', 'five', 'years', ',', \"''\", 'said', 'state', 'forest', 'official', 'Manoj', 'Singh', '.', 'According', 'to', 'another', 'government', 'official', ',', 'the', 'forest', 'cover', 'of', 'the', 'state', 'has', 'increased', 'over', 'the', 'last', 'few', 'years', '.', '``', 'There', 'has', 'been', 'an', 'increase', 'of', '127', 'sqare', 'kilometers', '[', '79', 'sqare', 'miles', ']', 'Â', 'in', 'the', 'forest', 'cover', 'in', 'Uttar', 'Pradesh', 'as', 'compared', 'to', '2017', ',', \"''\", 'a', 'state', 'government', 'spokesperson', 'was', 'quoted', 'as', 'saying', 'inÂ', 'The', 'Indian', 'Express', 'newspaper', '.', '``', 'There', 'has', 'also', 'been', 'an', 'increase', 'in', 'trees', 'and', 'plants', '.', 'The', 'tree', 'cover', 'has', 'increased', 'to', '3.05', '%', ',', 'as', 'compared', 'to', 'the', 'national', 'average', 'of', '2.89', '%', ',', \"''\", 'the', 'official', 'said', ',', 'citing', 'the', '2019', 'Forest', 'Survey', 'of', 'India', 'report', '.', 'How', 'many', 'saplings', 'survive', '?', 'Uttar', 'Pradesh', 'State', 'Forest', 'Minister', 'Dara', 'Singh', 'said', 'the', 'long-term', 'survival', 'of', 'the', 'saplings', 'remains', 'a', 'concern', ',', 'adding', 'that', 'usually', 'only', '60', '%', 'of', 'the', 'saplings', 'survive', '.', 'The', 'rest', 'succumb', 'to', 'disease', 'or', 'lack', 'of', 'water', '.', 'However', ',', 'he', 'said', 'thatÂ', 'about', '80', '%', 'of', 'the', 'saplings', 'planted', 'in', 'the', 'last', 'four', 'annual', 'drives', 'have', 'survived', '.', '``', 'All', 'the', 'regions', 'where', 'plantation', 'is', 'being', 'carried', 'out', 'have', 'been', 'geo-tagged', 'so', 'that', 'we', 'can', 'ascertain', 'what', 'exactly', 'happened', ',', \"''\", 'Chauhan', 'told', 'The', 'Pioneer', 'newspaper', '.', '``', 'These', 'saplings', 'carry', 'QR', 'codes', 'so', 'that', 'officials', 'can', 'maintain', 'a', 'record', 'and', 'verify', 'whether', 'the', 'saplings', 'survived', 'or', 'not', '.', 'Besides', ',', 'teams', 'have', 'been', 'formed', 'to', 'monitor', 'progress', 'of', 'the', 'plantation', 'drive', ',', \"''\", 'he', 'said', '.', 'What', 'is', 'the', 'extent', 'of', 'India', \"'s\", 'tree', 'planting', 'project', '?', 'India', 'has', 'vowed', 'to', 'have', 'a', 'third', 'of', 'its', 'total', 'land', 'area', ',', 'or', '95', 'million', 'hectares', ',', 'under', 'forest', 'and', 'tree', 'cover', 'by', '2030', '.', 'The', 'government', 'has', 'allocated', '$', '6.2', 'billion', '(', 'â‚¬5.2', 'billion', ')', 'for', 'the', 'tree-planting', 'across', 'the', 'country', '.', 'However', ',', 'industrial', 'development', 'and', 'a', 'rapidly', 'growing', 'population', 'has', 'put', 'further', 'stress', 'on', 'the', 'land', '.']\n"
     ]
    }
   ],
   "source": [
    "word_tokens2 = nltk.word_tokenize(doc2)\n",
    "print(word_tokens2)"
   ]
  },
  {
   "cell_type": "markdown",
   "id": "32709b41-4cb4-4d3e-85a7-6bd835ec656a",
   "metadata": {},
   "source": [
    "## Stop Words"
   ]
  },
  {
   "cell_type": "code",
   "execution_count": 64,
   "id": "7bcd8a3a-5aa3-410a-8700-b9d6b4d2887e",
   "metadata": {},
   "outputs": [],
   "source": [
    "from nltk.corpus import stopwords\n",
    "stop_words = set(stopwords.words('english'))"
   ]
  },
  {
   "cell_type": "code",
   "execution_count": 66,
   "id": "c24ad81a-44b9-4324-81bb-addcd834d520",
   "metadata": {},
   "outputs": [
    {
     "data": {
      "text/plain": [
       "{'a',\n",
       " 'about',\n",
       " 'above',\n",
       " 'after',\n",
       " 'again',\n",
       " 'against',\n",
       " 'ain',\n",
       " 'all',\n",
       " 'am',\n",
       " 'an',\n",
       " 'and',\n",
       " 'any',\n",
       " 'are',\n",
       " 'aren',\n",
       " \"aren't\",\n",
       " 'as',\n",
       " 'at',\n",
       " 'be',\n",
       " 'because',\n",
       " 'been',\n",
       " 'before',\n",
       " 'being',\n",
       " 'below',\n",
       " 'between',\n",
       " 'both',\n",
       " 'but',\n",
       " 'by',\n",
       " 'can',\n",
       " 'couldn',\n",
       " \"couldn't\",\n",
       " 'd',\n",
       " 'did',\n",
       " 'didn',\n",
       " \"didn't\",\n",
       " 'do',\n",
       " 'does',\n",
       " 'doesn',\n",
       " \"doesn't\",\n",
       " 'doing',\n",
       " 'don',\n",
       " \"don't\",\n",
       " 'down',\n",
       " 'during',\n",
       " 'each',\n",
       " 'few',\n",
       " 'for',\n",
       " 'from',\n",
       " 'further',\n",
       " 'had',\n",
       " 'hadn',\n",
       " \"hadn't\",\n",
       " 'has',\n",
       " 'hasn',\n",
       " \"hasn't\",\n",
       " 'have',\n",
       " 'haven',\n",
       " \"haven't\",\n",
       " 'having',\n",
       " 'he',\n",
       " 'her',\n",
       " 'here',\n",
       " 'hers',\n",
       " 'herself',\n",
       " 'him',\n",
       " 'himself',\n",
       " 'his',\n",
       " 'how',\n",
       " 'i',\n",
       " 'if',\n",
       " 'in',\n",
       " 'into',\n",
       " 'is',\n",
       " 'isn',\n",
       " \"isn't\",\n",
       " 'it',\n",
       " \"it's\",\n",
       " 'its',\n",
       " 'itself',\n",
       " 'just',\n",
       " 'll',\n",
       " 'm',\n",
       " 'ma',\n",
       " 'me',\n",
       " 'mightn',\n",
       " \"mightn't\",\n",
       " 'more',\n",
       " 'most',\n",
       " 'mustn',\n",
       " \"mustn't\",\n",
       " 'my',\n",
       " 'myself',\n",
       " 'needn',\n",
       " \"needn't\",\n",
       " 'no',\n",
       " 'nor',\n",
       " 'not',\n",
       " 'now',\n",
       " 'o',\n",
       " 'of',\n",
       " 'off',\n",
       " 'on',\n",
       " 'once',\n",
       " 'only',\n",
       " 'or',\n",
       " 'other',\n",
       " 'our',\n",
       " 'ours',\n",
       " 'ourselves',\n",
       " 'out',\n",
       " 'over',\n",
       " 'own',\n",
       " 're',\n",
       " 's',\n",
       " 'same',\n",
       " 'shan',\n",
       " \"shan't\",\n",
       " 'she',\n",
       " \"she's\",\n",
       " 'should',\n",
       " \"should've\",\n",
       " 'shouldn',\n",
       " \"shouldn't\",\n",
       " 'so',\n",
       " 'some',\n",
       " 'such',\n",
       " 't',\n",
       " 'than',\n",
       " 'that',\n",
       " \"that'll\",\n",
       " 'the',\n",
       " 'their',\n",
       " 'theirs',\n",
       " 'them',\n",
       " 'themselves',\n",
       " 'then',\n",
       " 'there',\n",
       " 'these',\n",
       " 'they',\n",
       " 'this',\n",
       " 'those',\n",
       " 'through',\n",
       " 'to',\n",
       " 'too',\n",
       " 'under',\n",
       " 'until',\n",
       " 'up',\n",
       " 've',\n",
       " 'very',\n",
       " 'was',\n",
       " 'wasn',\n",
       " \"wasn't\",\n",
       " 'we',\n",
       " 'were',\n",
       " 'weren',\n",
       " \"weren't\",\n",
       " 'what',\n",
       " 'when',\n",
       " 'where',\n",
       " 'which',\n",
       " 'while',\n",
       " 'who',\n",
       " 'whom',\n",
       " 'why',\n",
       " 'will',\n",
       " 'with',\n",
       " 'won',\n",
       " \"won't\",\n",
       " 'wouldn',\n",
       " \"wouldn't\",\n",
       " 'y',\n",
       " 'you',\n",
       " \"you'd\",\n",
       " \"you'll\",\n",
       " \"you're\",\n",
       " \"you've\",\n",
       " 'your',\n",
       " 'yours',\n",
       " 'yourself',\n",
       " 'yourselves'}"
      ]
     },
     "execution_count": 66,
     "metadata": {},
     "output_type": "execute_result"
    }
   ],
   "source": [
    "stop_words"
   ]
  },
  {
   "cell_type": "code",
   "execution_count": 88,
   "id": "6be08ed2-6d1d-4615-b90d-73df5b4166f4",
   "metadata": {},
   "outputs": [],
   "source": [
    "def stopWordRemoval(text):\n",
    "    res = []\n",
    "    for t in text:\n",
    "        if(t.lower() not in stop_words):\n",
    "            res.append(t.lower())\n",
    "    return res"
   ]
  },
  {
   "cell_type": "code",
   "execution_count": 105,
   "id": "28415f62-5f2a-4016-86b5-5919531d6dd0",
   "metadata": {},
   "outputs": [],
   "source": [
    "res = stopWordRemoval(word_tokens)"
   ]
  },
  {
   "cell_type": "code",
   "execution_count": 159,
   "id": "056b60ba-b392-404d-b23b-a0e570088e64",
   "metadata": {},
   "outputs": [],
   "source": [
    "res2 = stopWordRemoval(word_tokens2)"
   ]
  },
  {
   "cell_type": "code",
   "execution_count": 165,
   "id": "8c126001-560e-4450-a312-f48ba24ac141",
   "metadata": {},
   "outputs": [
    {
     "name": "stdout",
     "output_type": "stream",
     "text": [
      "['2016', '2019', ',', 'state', 'forest', 'department', 'theâ', 'bjpâ', 'government', 'launched', 'â€˜green', 'maharashtraâ€™', 'drive', 'aim', 'plant', '50', 'crore', 'trees', 'across', 'state', 'four-year', 'period', '.', 'october', '2019', ',', 'government', 'claimed', 'surpassed', 'target', 'planting', '33', 'crore', 'trees', 'july-september', '2019.â', 'indian', 'expressâ', 'found', 'non-forest', 'agencies', 'â€', '”', 'gram', 'panchayats', 'â€', '”', 'tasked', 'planting', 'trees', 'uploaded', 'mandatory', 'audio-visual', 'proof', 'tree', 'plantation', 'drives', 'specially', 'created', 'portal', '.', 'pune', 'revenue', 'division', ',', 'claimed', 'gram', 'panchayats', 'planted', '1.7', 'crore', 'saplings', ';', 'however', ',', 'evidence', 'uploaded', '87', 'per', 'cent', '(', '1.49', 'crore', ')', 'saplings', '.', 'also', ',', '59', 'government', 'agencies', 'involved', 'drive', 'many', '38', 'submitted', 'survival', 'reports', 'saplings', '.', 'year', ',', 'targets', 'set', 'forest', 'department', 'comparatively', 'modest', '.', 'example', ',', 'pune', 'circle', 'â€', '”', 'comprises', 'three', 'divisions', 'pune', 'solapur', 'district', 'â€', '”', 'planned', 'plant', '17', 'lakh', 'saplings', 'forest', 'land', '.', 'however', ',', 'may', 'meet', 'target', 'due', 'unavailability', 'funds', '.', 'last', 'year', 'pune', 'circle', 'planted', '70', 'lakh', 'saplings', 'forest', 'land', '.', 'pune', 'division', 'â€', '”', 'comprises', 'six', 'talukas', 'namely', 'maval', ',', 'mulshi', ',', 'daund', ',', 'indapur', ',', 'baramati', 'havveli', 'â€', '”', 'preparations', 'done', 'plantation', '4', 'lakh', 'trees', 'special', 'emphasis', 'teakwood', '.', 'national', 'forest', 'policy', 'aims', 'emphasizes', 'maintaining', '33', '%', 'countryâ€™s', 'geographical', 'area', 'forest', 'green', 'cover', '.', 'view', 'part', '50', 'crore', 'plantation', 'programme', 'within', 'maharashtra', ',', 'maharashtra', 'forest', 'department', 'aims', 'plant', '4', 'crore', 'saplings', 'state', 'betweenâ', '1st', 'july', '7th', ',', '2017â', 'celebrateâ', 'â€˜vanmohotsavâ€™', '.', 'â', 'plantation', 'programme', ',', 'announced', '2016', 'aim', 'plantingâ', '2', 'crore', 'trees', '1stâ', 'july', '2016', 'resounding', 'success', 'final', 'total', 'reported', 'figure', 'ofâ', '2.82', 'crore', 'saplings', 'plantedâ', 'single', 'day', '.', 'maintain', 'consistency', 'platform', 'without', 'affecting', 'momentum', ',', 'forest', 'department', 'set', 'target', 'plantation', '4', 'crore', ',', '13', 'crore', '33', 'crore', 'saplings', 'mission', '50', 'crore', 'plantation', 'shall', 'accomplished', 'three', 'consecutive', 'years', 'viz', '.', '2017', ',', '2018', '2019', '.', 'â', 'theâ', '4', 'croreâ', 'saplings', 'year', '2017', 'planted', 'vanmohotsav', ',', 'â', 'july', '1st', 'july', '7thâ', 'state-wide', 'driveâ', 'involvement', '33', 'government', 'departments', 'along', 'students', 'schools', 'colleges', ',', 'nss', ',', 'ncc', ',', 'csr', ',', 'ngos', ',', 'railways', ',', 'national', 'highways', ',', 'defence', ',', 'nabard', 'stakeholders', 'society', '.', 'â', 'first', 'kind', ',', 'aâ', '24-hourâ', 'toll', 'freeâ', 'helpline', 'number', '1926â', 'called', 'â€˜hello', 'forestâ€™', 'set', 'provide', 'information', 'regarding', 'plantation', ',', 'protection', 'mass', 'awareness', '.', 'forest', 'department', 'created', 'aâ', 'mobile', 'application', 'called', 'â€˜my', 'plantsâ€™â', 'record', 'details', 'plantation', 'numbers', ',', 'species', 'location', 'computer', 'system', 'forest', 'department', '.', 'volunteers', 'individual', ',', 'collective', 'organizational', 'level', 'download', 'use', 'application', 'record', 'tree', 'plantation', 'work', 'application', ',', 'operational', '1stâ', 'july', '7thâ', 'july.â', 'â', 'consonance', 'public', 'participation', ',', 'maharashtra', 'forest', 'department', 'initiated', 'â€˜maharashtra', 'harit', 'senaâ€™/', 'â€˜green', 'armyâ€™', 'body', 'dedicated', 'volunteers', 'participate', 'plantation', ',', 'protection', ',', 'activities', 'forest', ',', 'wildlife', ',', 'related', 'sectors', 'around', 'year', '.', 'individuals', 'organisations', 'interested', 'volunteering', 'register', 'green', 'army', 'websiteâ', 'www.greenarmy.mahaforest.gov.in', 'â', 'integrated', 'drive', 'set', 'place', 'ensure', 'seamless', 'successful', 'participation', 'stakeholders', 'society', ',', 'especially', 'public', '.']\n"
     ]
    }
   ],
   "source": [
    "print(res)"
   ]
  },
  {
   "cell_type": "code",
   "execution_count": 163,
   "id": "c24fba09-d074-4a23-b003-17fc58f662bc",
   "metadata": {},
   "outputs": [
    {
     "name": "stdout",
     "output_type": "stream",
     "text": [
      "['millions', 'people', 'india', 'took', 'part', 'annual', 'tree', 'planting', 'drive', 'sunday', '.', '250', 'million', 'saplings', 'planted', 'single', 'day', 'across', 'country', \"'s\", 'most-populous', 'state', '.', 'campaign', 'led', 'uttar', 'pradesh', 'state', 'government', 'officials', ',', 'lawmakers', ',', 'activists', ',', 'bid', 'reduce', 'carbon', 'emissions', 'combat', 'climate', 'change', '.', 'trees', 'planted', '?', 'saplings', 'planted', 'volunteers', 'forests', ',', 'farms', ',', 'schools', ',', 'along', 'riverbanks', 'highways', '.', '``', 'committed', 'increasing', 'forest', 'cover', 'uttar', 'pradesh', '15', '%', 'total', 'land', 'area', 'next', 'five', 'years', ',', \"''\", 'said', 'state', 'forest', 'official', 'manoj', 'singh', '.', 'according', 'another', 'government', 'official', ',', 'forest', 'cover', 'state', 'increased', 'last', 'years', '.', '``', 'increase', '127', 'sqare', 'kilometers', '[', '79', 'sqare', 'miles', ']', 'â', 'forest', 'cover', 'uttar', 'pradesh', 'compared', '2017', ',', \"''\", 'state', 'government', 'spokesperson', 'quoted', 'saying', 'inâ', 'indian', 'express', 'newspaper', '.', '``', 'also', 'increase', 'trees', 'plants', '.', 'tree', 'cover', 'increased', '3.05', '%', ',', 'compared', 'national', 'average', '2.89', '%', ',', \"''\", 'official', 'said', ',', 'citing', '2019', 'forest', 'survey', 'india', 'report', '.', 'many', 'saplings', 'survive', '?', 'uttar', 'pradesh', 'state', 'forest', 'minister', 'dara', 'singh', 'said', 'long-term', 'survival', 'saplings', 'remains', 'concern', ',', 'adding', 'usually', '60', '%', 'saplings', 'survive', '.', 'rest', 'succumb', 'disease', 'lack', 'water', '.', 'however', ',', 'said', 'thatâ', '80', '%', 'saplings', 'planted', 'last', 'four', 'annual', 'drives', 'survived', '.', '``', 'regions', 'plantation', 'carried', 'geo-tagged', 'ascertain', 'exactly', 'happened', ',', \"''\", 'chauhan', 'told', 'pioneer', 'newspaper', '.', '``', 'saplings', 'carry', 'qr', 'codes', 'officials', 'maintain', 'record', 'verify', 'whether', 'saplings', 'survived', '.', 'besides', ',', 'teams', 'formed', 'monitor', 'progress', 'plantation', 'drive', ',', \"''\", 'said', '.', 'extent', 'india', \"'s\", 'tree', 'planting', 'project', '?', 'india', 'vowed', 'third', 'total', 'land', 'area', ',', '95', 'million', 'hectares', ',', 'forest', 'tree', 'cover', '2030', '.', 'government', 'allocated', '$', '6.2', 'billion', '(', 'â‚¬5.2', 'billion', ')', 'tree-planting', 'across', 'country', '.', 'however', ',', 'industrial', 'development', 'rapidly', 'growing', 'population', 'put', 'stress', 'land', '.']\n"
     ]
    }
   ],
   "source": [
    "print(res2)"
   ]
  },
  {
   "cell_type": "markdown",
   "id": "b99362a3-445e-43dc-967c-8f99bef67ddc",
   "metadata": {},
   "source": [
    "## POS Taging"
   ]
  },
  {
   "cell_type": "code",
   "execution_count": 110,
   "id": "b27737ec-cbba-450c-9215-47ac171f448a",
   "metadata": {},
   "outputs": [
    {
     "name": "stdout",
     "output_type": "stream",
     "text": [
      "[('2016', 'CD'), ('2019', 'CD'), (',', ','), ('state', 'NN'), ('forest', 'JJS'), ('department', 'NN'), ('theâ', 'NN'), ('bjpâ', 'JJ'), ('government', 'NN'), ('launched', 'VBD'), ('â€˜green', 'JJ'), ('maharashtraâ€™', 'NN'), ('drive', 'NN'), ('aim', 'NN'), ('plant', 'NN'), ('50', 'CD'), ('crore', 'NN'), ('trees', 'NNS'), ('across', 'IN'), ('state', 'NN'), ('four-year', 'JJ'), ('period', 'NN'), ('.', '.'), ('october', 'JJ'), ('2019', 'CD'), (',', ','), ('government', 'NN'), ('claimed', 'VBD'), ('surpassed', 'JJ'), ('target', 'NN'), ('planting', 'VBG'), ('33', 'CD'), ('crore', 'NN'), ('trees', 'NNS'), ('july-september', 'VBP'), ('2019.â', 'CD'), ('indian', 'JJ'), ('expressâ', 'NN'), ('found', 'VBD'), ('non-forest', 'JJ'), ('agencies', 'NNS'), ('â€', 'VBP'), ('”', 'JJ'), ('gram', 'NN'), ('panchayats', 'NNS'), ('â€', 'VBP'), ('”', 'JJ'), ('tasked', 'VBN'), ('planting', 'NN'), ('trees', 'NNS'), ('uploaded', 'JJ'), ('mandatory', 'JJ'), ('audio-visual', 'JJ'), ('proof', 'NN'), ('tree', 'JJ'), ('plantation', 'NN'), ('drives', 'NNS'), ('specially', 'RB'), ('created', 'VBD'), ('portal', 'JJ'), ('.', '.'), ('pune', 'NN'), ('revenue', 'NN'), ('division', 'NN'), (',', ','), ('claimed', 'VBD'), ('gram', 'JJ'), ('panchayats', 'NNS'), ('planted', 'VBD'), ('1.7', 'CD'), ('crore', 'NN'), ('saplings', 'NNS'), (';', ':'), ('however', 'RB'), (',', ','), ('evidence', 'NN'), ('uploaded', 'VBD'), ('87', 'CD'), ('per', 'IN'), ('cent', 'NN'), ('(', '('), ('1.49', 'CD'), ('crore', 'NN'), (')', ')'), ('saplings', 'NNS'), ('.', '.'), ('also', 'RB'), (',', ','), ('59', 'CD'), ('government', 'NN'), ('agencies', 'NNS'), ('involved', 'VBD'), ('drive', 'JJ'), ('many', 'JJ'), ('38', 'CD'), ('submitted', 'VBD'), ('survival', 'NN'), ('reports', 'NNS'), ('saplings', 'NNS'), ('.', '.'), ('year', 'NN'), (',', ','), ('targets', 'NNS'), ('set', 'VBP'), ('forest', 'JJS'), ('department', 'NN'), ('comparatively', 'RB'), ('modest', 'JJ'), ('.', '.'), ('example', 'NN'), (',', ','), ('pune', 'JJ'), ('circle', 'NN'), ('â€', 'NNP'), ('”', 'NNP'), ('comprises', 'VBZ'), ('three', 'CD'), ('divisions', 'NNS'), ('pune', 'VBP'), ('solapur', 'JJ'), ('district', 'NN'), ('â€', 'NNP'), ('”', 'NNP'), ('planned', 'VBD'), ('plant', 'NN'), ('17', 'CD'), ('lakh', 'JJ'), ('saplings', 'NNS'), ('forest', 'JJS'), ('land', 'NN'), ('.', '.'), ('however', 'RB'), (',', ','), ('may', 'MD'), ('meet', 'VB'), ('target', 'NN'), ('due', 'JJ'), ('unavailability', 'NN'), ('funds', 'NNS'), ('.', '.'), ('last', 'JJ'), ('year', 'NN'), ('pune', 'VBD'), ('circle', 'NN'), ('planted', 'VBD'), ('70', 'CD'), ('lakh', 'JJ'), ('saplings', 'NNS'), ('forest', 'JJS'), ('land', 'NN'), ('.', '.'), ('pune', 'JJ'), ('division', 'NN'), ('â€', 'NNP'), ('”', 'NNP'), ('comprises', 'VBZ'), ('six', 'CD'), ('talukas', 'NN'), ('namely', 'RB'), ('maval', 'JJ'), (',', ','), ('mulshi', 'NN'), (',', ','), ('daund', 'NN'), (',', ','), ('indapur', 'NN'), (',', ','), ('baramati', 'JJ'), ('havveli', 'NN'), ('â€', 'NNP'), ('”', 'NNP'), ('preparations', 'NNS'), ('done', 'VBN'), ('plantation', 'NN'), ('4', 'CD'), ('lakh', 'NN'), ('trees', 'NNS'), ('special', 'JJ'), ('emphasis', 'NN'), ('teakwood', 'NN'), ('.', '.'), ('national', 'JJ'), ('forest', 'NN'), ('policy', 'NN'), ('aims', 'VBZ'), ('emphasizes', 'VBZ'), ('maintaining', 'VBG'), ('33', 'CD'), ('%', 'NN'), ('countryâ€™s', 'JJ'), ('geographical', 'JJ'), ('area', 'NN'), ('forest', 'JJS'), ('green', 'JJ'), ('cover', 'NN'), ('.', '.'), ('view', 'VB'), ('part', 'NN'), ('50', 'CD'), ('crore', 'NN'), ('plantation', 'NN'), ('programme', 'NN'), ('within', 'IN'), ('maharashtra', 'NN'), (',', ','), ('maharashtra', 'JJ'), ('forest', 'JJS'), ('department', 'NN'), ('aims', 'VBZ'), ('plant', 'NN'), ('4', 'CD'), ('crore', 'NN'), ('saplings', 'NNS'), ('state', 'NN'), ('betweenâ', 'VBD'), ('1st', 'CD'), ('july', 'NN'), ('7th', 'CD'), (',', ','), ('2017â', 'CD'), ('celebrateâ', 'NN'), ('â€˜vanmohotsavâ€™', 'NN'), ('.', '.'), ('â', 'JJ'), ('plantation', 'NN'), ('programme', 'NN'), (',', ','), ('announced', 'VBD'), ('2016', 'CD'), ('aim', 'NN'), ('plantingâ', 'VBD'), ('2', 'CD'), ('crore', 'NN'), ('trees', 'NNS'), ('1stâ', 'CD'), ('july', 'NN'), ('2016', 'CD'), ('resounding', 'VBG'), ('success', 'NN'), ('final', 'JJ'), ('total', 'NN'), ('reported', 'VBD'), ('figure', 'NN'), ('ofâ', 'NN'), ('2.82', 'CD'), ('crore', 'NN'), ('saplings', 'NNS'), ('plantedâ', 'VBP'), ('single', 'JJ'), ('day', 'NN'), ('.', '.'), ('maintain', 'VB'), ('consistency', 'NN'), ('platform', 'NN'), ('without', 'IN'), ('affecting', 'VBG'), ('momentum', 'NN'), (',', ','), ('forest', 'JJS'), ('department', 'NN'), ('set', 'VBN'), ('target', 'NN'), ('plantation', 'NN'), ('4', 'CD'), ('crore', 'NN'), (',', ','), ('13', 'CD'), ('crore', 'NN'), ('33', 'CD'), ('crore', 'NN'), ('saplings', 'NNS'), ('mission', 'NN'), ('50', 'CD'), ('crore', 'NN'), ('plantation', 'NN'), ('shall', 'MD'), ('accomplished', 'VB'), ('three', 'CD'), ('consecutive', 'JJ'), ('years', 'NNS'), ('viz', 'RB'), ('.', '.'), ('2017', 'CD'), (',', ','), ('2018', 'CD'), ('2019', 'CD'), ('.', '.'), ('â', 'VB'), ('theâ', 'JJ'), ('4', 'CD'), ('croreâ', 'NN'), ('saplings', 'NNS'), ('year', 'NN'), ('2017', 'CD'), ('planted', 'VBD'), ('vanmohotsav', 'NN'), (',', ','), ('â', 'NNP'), ('july', 'VBZ'), ('1st', 'CD'), ('july', 'NN'), ('7thâ', 'CD'), ('state-wide', 'JJ'), ('driveâ', 'NN'), ('involvement', 'NN'), ('33', 'CD'), ('government', 'NN'), ('departments', 'NNS'), ('along', 'IN'), ('students', 'NNS'), ('schools', 'NNS'), ('colleges', 'NNS'), (',', ','), ('nss', 'RB'), (',', ','), ('ncc', 'RB'), (',', ','), ('csr', 'NN'), (',', ','), ('ngos', 'RB'), (',', ','), ('railways', 'NNS'), (',', ','), ('national', 'JJ'), ('highways', 'NNS'), (',', ','), ('defence', 'NN'), (',', ','), ('nabard', 'JJ'), ('stakeholders', 'NNS'), ('society', 'NN'), ('.', '.'), ('â', 'CC'), ('first', 'JJ'), ('kind', 'NN'), (',', ','), ('aâ', 'JJ'), ('24-hourâ', 'JJ'), ('toll', 'NN'), ('freeâ', 'NN'), ('helpline', 'NN'), ('number', 'NN'), ('1926â', 'CD'), ('called', 'VBN'), ('â€˜hello', 'NN'), ('forestâ€™', 'NN'), ('set', 'VBN'), ('provide', 'VBP'), ('information', 'NN'), ('regarding', 'VBG'), ('plantation', 'NN'), (',', ','), ('protection', 'NN'), ('mass', 'NN'), ('awareness', 'NN'), ('.', '.'), ('forest', 'JJS'), ('department', 'NN'), ('created', 'VBD'), ('aâ', 'RB'), ('mobile', 'JJ'), ('application', 'NN'), ('called', 'VBN'), ('â€˜my', 'NNP'), ('plantsâ€™â', 'NN'), ('record', 'NN'), ('details', 'NNS'), ('plantation', 'NN'), ('numbers', 'NNS'), (',', ','), ('species', 'NNS'), ('location', 'VBP'), ('computer', 'NN'), ('system', 'NN'), ('forest', 'JJ'), ('department', 'NN'), ('.', '.'), ('volunteers', 'NNS'), ('individual', 'JJ'), (',', ','), ('collective', 'JJ'), ('organizational', 'JJ'), ('level', 'NN'), ('download', 'NN'), ('use', 'NN'), ('application', 'NN'), ('record', 'NN'), ('tree', 'NN'), ('plantation', 'NN'), ('work', 'NN'), ('application', 'NN'), (',', ','), ('operational', 'JJ'), ('1stâ', 'CD'), ('july', 'NN'), ('7thâ', 'CD'), ('july.â', 'NN'), ('â', 'JJ'), ('consonance', 'NN'), ('public', 'JJ'), ('participation', 'NN'), (',', ','), ('maharashtra', 'JJ'), ('forest', 'JJS'), ('department', 'NN'), ('initiated', 'VBD'), ('â€˜maharashtra', 'NNP'), ('harit', 'NN'), ('senaâ€™/', 'NN'), ('â€˜green', 'JJ'), ('armyâ€™', 'NN'), ('body', 'NN'), ('dedicated', 'VBN'), ('volunteers', 'NNS'), ('participate', 'JJ'), ('plantation', 'NN'), (',', ','), ('protection', 'NN'), (',', ','), ('activities', 'NNS'), ('forest', 'VBP'), (',', ','), ('wildlife', 'NN'), (',', ','), ('related', 'JJ'), ('sectors', 'NNS'), ('around', 'IN'), ('year', 'NN'), ('.', '.'), ('individuals', 'NNS'), ('organisations', 'NNS'), ('interested', 'JJ'), ('volunteering', 'VBG'), ('register', 'NN'), ('green', 'JJ'), ('army', 'NN'), ('websiteâ', 'NN'), ('www.greenarmy.mahaforest.gov.in', 'NN'), ('â', 'NNP'), ('integrated', 'VBD'), ('drive', 'JJ'), ('set', 'NN'), ('place', 'NN'), ('ensure', 'VB'), ('seamless', 'JJ'), ('successful', 'JJ'), ('participation', 'NN'), ('stakeholders', 'NNS'), ('society', 'NN'), (',', ','), ('especially', 'RB'), ('public', 'JJ'), ('.', '.')]\n"
     ]
    }
   ],
   "source": [
    "pos_tagged = nltk.pos_tag(res)\n",
    "print(pos_tagged)"
   ]
  },
  {
   "cell_type": "markdown",
   "id": "8898ad65-13b3-4117-8182-8ea34f3b6c07",
   "metadata": {},
   "source": [
    "## Steming"
   ]
  },
  {
   "cell_type": "code",
   "execution_count": 113,
   "id": "78270423-44d6-4e77-9011-25a73516c20e",
   "metadata": {},
   "outputs": [],
   "source": [
    "from nltk.stem import PorterStemmer\n",
    "stemmer = PorterStemmer()"
   ]
  },
  {
   "cell_type": "code",
   "execution_count": 115,
   "id": "68044c66-a7c1-4a37-9497-21c63924fcba",
   "metadata": {},
   "outputs": [],
   "source": [
    "def stemming(tokens):\n",
    "    res = []\n",
    "    for token in tokens:\n",
    "        res.append(stemmer.stem(token))\n",
    "    return res"
   ]
  },
  {
   "cell_type": "code",
   "execution_count": 117,
   "id": "b562de4d-e0e4-4928-b0af-5adaa11d0580",
   "metadata": {},
   "outputs": [
    {
     "name": "stdout",
     "output_type": "stream",
     "text": [
      "['2016', '2019', ',', 'state', 'forest', 'depart', 'theâ', 'bjpâ', 'govern', 'launch', 'â€˜green', 'maharashtraâ€™', 'drive', 'aim', 'plant', '50', 'crore', 'tree', 'across', 'state', 'four-year', 'period', '.', 'octob', '2019', ',', 'govern', 'claim', 'surpass', 'target', 'plant', '33', 'crore', 'tree', 'july-septemb', '2019.â', 'indian', 'expressâ', 'found', 'non-forest', 'agenc', 'â€', '”', 'gram', 'panchayat', 'â€', '”', 'task', 'plant', 'tree', 'upload', 'mandatori', 'audio-visu', 'proof', 'tree', 'plantat', 'drive', 'special', 'creat', 'portal', '.', 'pune', 'revenu', 'divis', ',', 'claim', 'gram', 'panchayat', 'plant', '1.7', 'crore', 'sapl', ';', 'howev', ',', 'evid', 'upload', '87', 'per', 'cent', '(', '1.49', 'crore', ')', 'sapl', '.', 'also', ',', '59', 'govern', 'agenc', 'involv', 'drive', 'mani', '38', 'submit', 'surviv', 'report', 'sapl', '.', 'year', ',', 'target', 'set', 'forest', 'depart', 'compar', 'modest', '.', 'exampl', ',', 'pune', 'circl', 'â€', '”', 'compris', 'three', 'divis', 'pune', 'solapur', 'district', 'â€', '”', 'plan', 'plant', '17', 'lakh', 'sapl', 'forest', 'land', '.', 'howev', ',', 'may', 'meet', 'target', 'due', 'unavail', 'fund', '.', 'last', 'year', 'pune', 'circl', 'plant', '70', 'lakh', 'sapl', 'forest', 'land', '.', 'pune', 'divis', 'â€', '”', 'compris', 'six', 'taluka', 'name', 'maval', ',', 'mulshi', ',', 'daund', ',', 'indapur', ',', 'baramati', 'havv', 'â€', '”', 'prepar', 'done', 'plantat', '4', 'lakh', 'tree', 'special', 'emphasi', 'teakwood', '.', 'nation', 'forest', 'polici', 'aim', 'emphas', 'maintain', '33', '%', 'countryâ€™', 'geograph', 'area', 'forest', 'green', 'cover', '.', 'view', 'part', '50', 'crore', 'plantat', 'programm', 'within', 'maharashtra', ',', 'maharashtra', 'forest', 'depart', 'aim', 'plant', '4', 'crore', 'sapl', 'state', 'betweenâ', '1st', 'juli', '7th', ',', '2017â', 'celebrateâ', 'â€˜vanmohotsavâ€™', '.', 'â', 'plantat', 'programm', ',', 'announc', '2016', 'aim', 'plantingâ', '2', 'crore', 'tree', '1stâ', 'juli', '2016', 'resound', 'success', 'final', 'total', 'report', 'figur', 'ofâ', '2.82', 'crore', 'sapl', 'plantedâ', 'singl', 'day', '.', 'maintain', 'consist', 'platform', 'without', 'affect', 'momentum', ',', 'forest', 'depart', 'set', 'target', 'plantat', '4', 'crore', ',', '13', 'crore', '33', 'crore', 'sapl', 'mission', '50', 'crore', 'plantat', 'shall', 'accomplish', 'three', 'consecut', 'year', 'viz', '.', '2017', ',', '2018', '2019', '.', 'â', 'theâ', '4', 'croreâ', 'sapl', 'year', '2017', 'plant', 'vanmohotsav', ',', 'â', 'juli', '1st', 'juli', '7thâ', 'state-wid', 'driveâ', 'involv', '33', 'govern', 'depart', 'along', 'student', 'school', 'colleg', ',', 'nss', ',', 'ncc', ',', 'csr', ',', 'ngo', ',', 'railway', ',', 'nation', 'highway', ',', 'defenc', ',', 'nabard', 'stakehold', 'societi', '.', 'â', 'first', 'kind', ',', 'aâ', '24-hourâ', 'toll', 'freeâ', 'helplin', 'number', '1926â', 'call', 'â€˜hello', 'forestâ€™', 'set', 'provid', 'inform', 'regard', 'plantat', ',', 'protect', 'mass', 'awar', '.', 'forest', 'depart', 'creat', 'aâ', 'mobil', 'applic', 'call', 'â€˜mi', 'plantsâ€™â', 'record', 'detail', 'plantat', 'number', ',', 'speci', 'locat', 'comput', 'system', 'forest', 'depart', '.', 'volunt', 'individu', ',', 'collect', 'organiz', 'level', 'download', 'use', 'applic', 'record', 'tree', 'plantat', 'work', 'applic', ',', 'oper', '1stâ', 'juli', '7thâ', 'july.â', 'â', 'conson', 'public', 'particip', ',', 'maharashtra', 'forest', 'depart', 'initi', 'â€˜maharashtra', 'harit', 'senaâ€™/', 'â€˜green', 'armyâ€™', 'bodi', 'dedic', 'volunt', 'particip', 'plantat', ',', 'protect', ',', 'activ', 'forest', ',', 'wildlif', ',', 'relat', 'sector', 'around', 'year', '.', 'individu', 'organis', 'interest', 'volunt', 'regist', 'green', 'armi', 'websiteâ', 'www.greenarmy.mahaforest.gov.in', 'â', 'integr', 'drive', 'set', 'place', 'ensur', 'seamless', 'success', 'particip', 'stakehold', 'societi', ',', 'especi', 'public', '.']\n"
     ]
    }
   ],
   "source": [
    "stemmed_res = stemming(res)\n",
    "print(stemmed_res)"
   ]
  },
  {
   "cell_type": "markdown",
   "id": "6a7623b6-fa3b-49fb-92b8-0cbada9a1b8c",
   "metadata": {},
   "source": [
    "## Leminantization"
   ]
  },
  {
   "cell_type": "code",
   "execution_count": 142,
   "id": "06277b8d-336a-4492-81b2-0a892ae393af",
   "metadata": {},
   "outputs": [
    {
     "name": "stderr",
     "output_type": "stream",
     "text": [
      "[nltk_data] Downloading collection 'all'\n",
      "[nltk_data]    | \n",
      "[nltk_data]    | Downloading package abc to\n",
      "[nltk_data]    |     C:\\Users\\HP\\AppData\\Roaming\\nltk_data...\n",
      "[nltk_data]    |   Package abc is already up-to-date!\n",
      "[nltk_data]    | Downloading package alpino to\n",
      "[nltk_data]    |     C:\\Users\\HP\\AppData\\Roaming\\nltk_data...\n",
      "[nltk_data]    |   Package alpino is already up-to-date!\n",
      "[nltk_data]    | Downloading package averaged_perceptron_tagger to\n",
      "[nltk_data]    |     C:\\Users\\HP\\AppData\\Roaming\\nltk_data...\n",
      "[nltk_data]    |   Package averaged_perceptron_tagger is already up-\n",
      "[nltk_data]    |       to-date!\n",
      "[nltk_data]    | Downloading package averaged_perceptron_tagger_eng to\n",
      "[nltk_data]    |     C:\\Users\\HP\\AppData\\Roaming\\nltk_data...\n",
      "[nltk_data]    |   Package averaged_perceptron_tagger_eng is already\n",
      "[nltk_data]    |       up-to-date!\n",
      "[nltk_data]    | Downloading package averaged_perceptron_tagger_ru to\n",
      "[nltk_data]    |     C:\\Users\\HP\\AppData\\Roaming\\nltk_data...\n",
      "[nltk_data]    |   Package averaged_perceptron_tagger_ru is already\n",
      "[nltk_data]    |       up-to-date!\n",
      "[nltk_data]    | Downloading package averaged_perceptron_tagger_rus to\n",
      "[nltk_data]    |     C:\\Users\\HP\\AppData\\Roaming\\nltk_data...\n",
      "[nltk_data]    |   Package averaged_perceptron_tagger_rus is already\n",
      "[nltk_data]    |       up-to-date!\n",
      "[nltk_data]    | Downloading package basque_grammars to\n",
      "[nltk_data]    |     C:\\Users\\HP\\AppData\\Roaming\\nltk_data...\n",
      "[nltk_data]    |   Package basque_grammars is already up-to-date!\n",
      "[nltk_data]    | Downloading package bcp47 to\n",
      "[nltk_data]    |     C:\\Users\\HP\\AppData\\Roaming\\nltk_data...\n",
      "[nltk_data]    |   Package bcp47 is already up-to-date!\n",
      "[nltk_data]    | Downloading package biocreative_ppi to\n",
      "[nltk_data]    |     C:\\Users\\HP\\AppData\\Roaming\\nltk_data...\n",
      "[nltk_data]    |   Package biocreative_ppi is already up-to-date!\n",
      "[nltk_data]    | Downloading package bllip_wsj_no_aux to\n",
      "[nltk_data]    |     C:\\Users\\HP\\AppData\\Roaming\\nltk_data...\n",
      "[nltk_data]    |   Package bllip_wsj_no_aux is already up-to-date!\n",
      "[nltk_data]    | Downloading package book_grammars to\n",
      "[nltk_data]    |     C:\\Users\\HP\\AppData\\Roaming\\nltk_data...\n",
      "[nltk_data]    |   Package book_grammars is already up-to-date!\n",
      "[nltk_data]    | Downloading package brown to\n",
      "[nltk_data]    |     C:\\Users\\HP\\AppData\\Roaming\\nltk_data...\n",
      "[nltk_data]    |   Package brown is already up-to-date!\n",
      "[nltk_data]    | Downloading package brown_tei to\n",
      "[nltk_data]    |     C:\\Users\\HP\\AppData\\Roaming\\nltk_data...\n",
      "[nltk_data]    |   Package brown_tei is already up-to-date!\n",
      "[nltk_data]    | Downloading package cess_cat to\n",
      "[nltk_data]    |     C:\\Users\\HP\\AppData\\Roaming\\nltk_data...\n",
      "[nltk_data]    |   Package cess_cat is already up-to-date!\n",
      "[nltk_data]    | Downloading package cess_esp to\n",
      "[nltk_data]    |     C:\\Users\\HP\\AppData\\Roaming\\nltk_data...\n",
      "[nltk_data]    |   Package cess_esp is already up-to-date!\n",
      "[nltk_data]    | Downloading package chat80 to\n",
      "[nltk_data]    |     C:\\Users\\HP\\AppData\\Roaming\\nltk_data...\n",
      "[nltk_data]    |   Package chat80 is already up-to-date!\n",
      "[nltk_data]    | Downloading package city_database to\n",
      "[nltk_data]    |     C:\\Users\\HP\\AppData\\Roaming\\nltk_data...\n",
      "[nltk_data]    |   Package city_database is already up-to-date!\n",
      "[nltk_data]    | Downloading package cmudict to\n",
      "[nltk_data]    |     C:\\Users\\HP\\AppData\\Roaming\\nltk_data...\n",
      "[nltk_data]    |   Package cmudict is already up-to-date!\n",
      "[nltk_data]    | Downloading package comparative_sentences to\n",
      "[nltk_data]    |     C:\\Users\\HP\\AppData\\Roaming\\nltk_data...\n",
      "[nltk_data]    |   Package comparative_sentences is already up-to-\n",
      "[nltk_data]    |       date!\n",
      "[nltk_data]    | Downloading package comtrans to\n",
      "[nltk_data]    |     C:\\Users\\HP\\AppData\\Roaming\\nltk_data...\n",
      "[nltk_data]    |   Package comtrans is already up-to-date!\n",
      "[nltk_data]    | Downloading package conll2000 to\n",
      "[nltk_data]    |     C:\\Users\\HP\\AppData\\Roaming\\nltk_data...\n",
      "[nltk_data]    |   Package conll2000 is already up-to-date!\n",
      "[nltk_data]    | Downloading package conll2002 to\n",
      "[nltk_data]    |     C:\\Users\\HP\\AppData\\Roaming\\nltk_data...\n",
      "[nltk_data]    |   Package conll2002 is already up-to-date!\n",
      "[nltk_data]    | Downloading package conll2007 to\n",
      "[nltk_data]    |     C:\\Users\\HP\\AppData\\Roaming\\nltk_data...\n",
      "[nltk_data]    |   Package conll2007 is already up-to-date!\n",
      "[nltk_data]    | Downloading package crubadan to\n",
      "[nltk_data]    |     C:\\Users\\HP\\AppData\\Roaming\\nltk_data...\n",
      "[nltk_data]    |   Package crubadan is already up-to-date!\n",
      "[nltk_data]    | Downloading package dependency_treebank to\n",
      "[nltk_data]    |     C:\\Users\\HP\\AppData\\Roaming\\nltk_data...\n",
      "[nltk_data]    |   Package dependency_treebank is already up-to-date!\n",
      "[nltk_data]    | Downloading package dolch to\n",
      "[nltk_data]    |     C:\\Users\\HP\\AppData\\Roaming\\nltk_data...\n",
      "[nltk_data]    |   Package dolch is already up-to-date!\n",
      "[nltk_data]    | Downloading package english_wordnet to\n",
      "[nltk_data]    |     C:\\Users\\HP\\AppData\\Roaming\\nltk_data...\n",
      "[nltk_data]    |   Package english_wordnet is already up-to-date!\n",
      "[nltk_data]    | Downloading package europarl_raw to\n",
      "[nltk_data]    |     C:\\Users\\HP\\AppData\\Roaming\\nltk_data...\n",
      "[nltk_data]    |   Package europarl_raw is already up-to-date!\n",
      "[nltk_data]    | Downloading package extended_omw to\n",
      "[nltk_data]    |     C:\\Users\\HP\\AppData\\Roaming\\nltk_data...\n",
      "[nltk_data]    |   Package extended_omw is already up-to-date!\n",
      "[nltk_data]    | Downloading package floresta to\n",
      "[nltk_data]    |     C:\\Users\\HP\\AppData\\Roaming\\nltk_data...\n",
      "[nltk_data]    |   Package floresta is already up-to-date!\n",
      "[nltk_data]    | Downloading package framenet_v15 to\n",
      "[nltk_data]    |     C:\\Users\\HP\\AppData\\Roaming\\nltk_data...\n",
      "[nltk_data]    |   Package framenet_v15 is already up-to-date!\n",
      "[nltk_data]    | Downloading package framenet_v17 to\n",
      "[nltk_data]    |     C:\\Users\\HP\\AppData\\Roaming\\nltk_data...\n",
      "[nltk_data]    |   Package framenet_v17 is already up-to-date!\n",
      "[nltk_data]    | Downloading package gazetteers to\n",
      "[nltk_data]    |     C:\\Users\\HP\\AppData\\Roaming\\nltk_data...\n",
      "[nltk_data]    |   Package gazetteers is already up-to-date!\n",
      "[nltk_data]    | Downloading package genesis to\n",
      "[nltk_data]    |     C:\\Users\\HP\\AppData\\Roaming\\nltk_data...\n",
      "[nltk_data]    |   Package genesis is already up-to-date!\n",
      "[nltk_data]    | Downloading package gutenberg to\n",
      "[nltk_data]    |     C:\\Users\\HP\\AppData\\Roaming\\nltk_data...\n",
      "[nltk_data]    |   Package gutenberg is already up-to-date!\n",
      "[nltk_data]    | Downloading package ieer to\n",
      "[nltk_data]    |     C:\\Users\\HP\\AppData\\Roaming\\nltk_data...\n",
      "[nltk_data]    |   Package ieer is already up-to-date!\n",
      "[nltk_data]    | Downloading package inaugural to\n",
      "[nltk_data]    |     C:\\Users\\HP\\AppData\\Roaming\\nltk_data...\n",
      "[nltk_data]    |   Package inaugural is already up-to-date!\n",
      "[nltk_data]    | Downloading package indian to\n",
      "[nltk_data]    |     C:\\Users\\HP\\AppData\\Roaming\\nltk_data...\n",
      "[nltk_data]    |   Package indian is already up-to-date!\n",
      "[nltk_data]    | Downloading package jeita to\n",
      "[nltk_data]    |     C:\\Users\\HP\\AppData\\Roaming\\nltk_data...\n",
      "[nltk_data]    |   Package jeita is already up-to-date!\n",
      "[nltk_data]    | Downloading package kimmo to\n",
      "[nltk_data]    |     C:\\Users\\HP\\AppData\\Roaming\\nltk_data...\n",
      "[nltk_data]    |   Package kimmo is already up-to-date!\n",
      "[nltk_data]    | Downloading package knbc to\n",
      "[nltk_data]    |     C:\\Users\\HP\\AppData\\Roaming\\nltk_data...\n",
      "[nltk_data]    |   Package knbc is already up-to-date!\n",
      "[nltk_data]    | Downloading package large_grammars to\n",
      "[nltk_data]    |     C:\\Users\\HP\\AppData\\Roaming\\nltk_data...\n",
      "[nltk_data]    |   Package large_grammars is already up-to-date!\n",
      "[nltk_data]    | Downloading package lin_thesaurus to\n",
      "[nltk_data]    |     C:\\Users\\HP\\AppData\\Roaming\\nltk_data...\n",
      "[nltk_data]    |   Package lin_thesaurus is already up-to-date!\n",
      "[nltk_data]    | Downloading package mac_morpho to\n",
      "[nltk_data]    |     C:\\Users\\HP\\AppData\\Roaming\\nltk_data...\n",
      "[nltk_data]    |   Package mac_morpho is already up-to-date!\n",
      "[nltk_data]    | Downloading package machado to\n",
      "[nltk_data]    |     C:\\Users\\HP\\AppData\\Roaming\\nltk_data...\n",
      "[nltk_data]    |   Package machado is already up-to-date!\n",
      "[nltk_data]    | Downloading package masc_tagged to\n",
      "[nltk_data]    |     C:\\Users\\HP\\AppData\\Roaming\\nltk_data...\n",
      "[nltk_data]    |   Package masc_tagged is already up-to-date!\n",
      "[nltk_data]    | Downloading package maxent_ne_chunker to\n",
      "[nltk_data]    |     C:\\Users\\HP\\AppData\\Roaming\\nltk_data...\n",
      "[nltk_data]    |   Package maxent_ne_chunker is already up-to-date!\n",
      "[nltk_data]    | Downloading package maxent_ne_chunker_tab to\n",
      "[nltk_data]    |     C:\\Users\\HP\\AppData\\Roaming\\nltk_data...\n",
      "[nltk_data]    |   Package maxent_ne_chunker_tab is already up-to-\n",
      "[nltk_data]    |       date!\n",
      "[nltk_data]    | Downloading package maxent_treebank_pos_tagger to\n",
      "[nltk_data]    |     C:\\Users\\HP\\AppData\\Roaming\\nltk_data...\n",
      "[nltk_data]    |   Package maxent_treebank_pos_tagger is already up-\n",
      "[nltk_data]    |       to-date!\n",
      "[nltk_data]    | Downloading package maxent_treebank_pos_tagger_tab to\n",
      "[nltk_data]    |     C:\\Users\\HP\\AppData\\Roaming\\nltk_data...\n",
      "[nltk_data]    |   Package maxent_treebank_pos_tagger_tab is already\n",
      "[nltk_data]    |       up-to-date!\n",
      "[nltk_data]    | Downloading package moses_sample to\n",
      "[nltk_data]    |     C:\\Users\\HP\\AppData\\Roaming\\nltk_data...\n",
      "[nltk_data]    |   Package moses_sample is already up-to-date!\n",
      "[nltk_data]    | Downloading package movie_reviews to\n",
      "[nltk_data]    |     C:\\Users\\HP\\AppData\\Roaming\\nltk_data...\n",
      "[nltk_data]    |   Unzipping corpora\\movie_reviews.zip.\n",
      "[nltk_data]    | Downloading package mte_teip5 to\n",
      "[nltk_data]    |     C:\\Users\\HP\\AppData\\Roaming\\nltk_data...\n",
      "[nltk_data]    |   Unzipping corpora\\mte_teip5.zip.\n",
      "[nltk_data]    | Downloading package mwa_ppdb to\n",
      "[nltk_data]    |     C:\\Users\\HP\\AppData\\Roaming\\nltk_data...\n",
      "[nltk_data]    |   Unzipping misc\\mwa_ppdb.zip.\n",
      "[nltk_data]    | Downloading package names to\n",
      "[nltk_data]    |     C:\\Users\\HP\\AppData\\Roaming\\nltk_data...\n",
      "[nltk_data]    |   Unzipping corpora\\names.zip.\n",
      "[nltk_data]    | Downloading package nombank.1.0 to\n",
      "[nltk_data]    |     C:\\Users\\HP\\AppData\\Roaming\\nltk_data...\n",
      "[nltk_data]    | Downloading package nonbreaking_prefixes to\n",
      "[nltk_data]    |     C:\\Users\\HP\\AppData\\Roaming\\nltk_data...\n",
      "[nltk_data]    |   Unzipping corpora\\nonbreaking_prefixes.zip.\n",
      "[nltk_data]    | Downloading package nps_chat to\n",
      "[nltk_data]    |     C:\\Users\\HP\\AppData\\Roaming\\nltk_data...\n",
      "[nltk_data]    |   Unzipping corpora\\nps_chat.zip.\n",
      "[nltk_data]    | Downloading package omw to\n",
      "[nltk_data]    |     C:\\Users\\HP\\AppData\\Roaming\\nltk_data...\n",
      "[nltk_data]    | Downloading package omw-1.4 to\n",
      "[nltk_data]    |     C:\\Users\\HP\\AppData\\Roaming\\nltk_data...\n",
      "[nltk_data]    | Downloading package opinion_lexicon to\n",
      "[nltk_data]    |     C:\\Users\\HP\\AppData\\Roaming\\nltk_data...\n",
      "[nltk_data]    |   Unzipping corpora\\opinion_lexicon.zip.\n",
      "[nltk_data]    | Downloading package panlex_swadesh to\n",
      "[nltk_data]    |     C:\\Users\\HP\\AppData\\Roaming\\nltk_data...\n",
      "[nltk_data]    | Downloading package paradigms to\n",
      "[nltk_data]    |     C:\\Users\\HP\\AppData\\Roaming\\nltk_data...\n",
      "[nltk_data]    |   Unzipping corpora\\paradigms.zip.\n",
      "[nltk_data]    | Downloading package pe08 to\n",
      "[nltk_data]    |     C:\\Users\\HP\\AppData\\Roaming\\nltk_data...\n",
      "[nltk_data]    |   Unzipping corpora\\pe08.zip.\n",
      "[nltk_data]    | Downloading package perluniprops to\n",
      "[nltk_data]    |     C:\\Users\\HP\\AppData\\Roaming\\nltk_data...\n",
      "[nltk_data]    |   Unzipping misc\\perluniprops.zip.\n",
      "[nltk_data]    | Downloading package pil to\n",
      "[nltk_data]    |     C:\\Users\\HP\\AppData\\Roaming\\nltk_data...\n",
      "[nltk_data]    |   Unzipping corpora\\pil.zip.\n",
      "[nltk_data]    | Downloading package pl196x to\n",
      "[nltk_data]    |     C:\\Users\\HP\\AppData\\Roaming\\nltk_data...\n",
      "[nltk_data]    |   Unzipping corpora\\pl196x.zip.\n",
      "[nltk_data]    | Downloading package porter_test to\n",
      "[nltk_data]    |     C:\\Users\\HP\\AppData\\Roaming\\nltk_data...\n",
      "[nltk_data]    |   Unzipping stemmers\\porter_test.zip.\n",
      "[nltk_data]    | Downloading package ppattach to\n",
      "[nltk_data]    |     C:\\Users\\HP\\AppData\\Roaming\\nltk_data...\n",
      "[nltk_data]    |   Unzipping corpora\\ppattach.zip.\n",
      "[nltk_data]    | Downloading package problem_reports to\n",
      "[nltk_data]    |     C:\\Users\\HP\\AppData\\Roaming\\nltk_data...\n",
      "[nltk_data]    |   Unzipping corpora\\problem_reports.zip.\n",
      "[nltk_data]    | Downloading package product_reviews_1 to\n",
      "[nltk_data]    |     C:\\Users\\HP\\AppData\\Roaming\\nltk_data...\n",
      "[nltk_data]    |   Unzipping corpora\\product_reviews_1.zip.\n",
      "[nltk_data]    | Downloading package product_reviews_2 to\n",
      "[nltk_data]    |     C:\\Users\\HP\\AppData\\Roaming\\nltk_data...\n",
      "[nltk_data]    |   Unzipping corpora\\product_reviews_2.zip.\n",
      "[nltk_data]    | Downloading package propbank to\n",
      "[nltk_data]    |     C:\\Users\\HP\\AppData\\Roaming\\nltk_data...\n",
      "[nltk_data]    | Downloading package pros_cons to\n",
      "[nltk_data]    |     C:\\Users\\HP\\AppData\\Roaming\\nltk_data...\n",
      "[nltk_data]    |   Unzipping corpora\\pros_cons.zip.\n",
      "[nltk_data]    | Downloading package ptb to\n",
      "[nltk_data]    |     C:\\Users\\HP\\AppData\\Roaming\\nltk_data...\n",
      "[nltk_data]    |   Unzipping corpora\\ptb.zip.\n",
      "[nltk_data]    | Downloading package punkt to\n",
      "[nltk_data]    |     C:\\Users\\HP\\AppData\\Roaming\\nltk_data...\n",
      "[nltk_data]    |   Package punkt is already up-to-date!\n",
      "[nltk_data]    | Downloading package punkt_tab to\n",
      "[nltk_data]    |     C:\\Users\\HP\\AppData\\Roaming\\nltk_data...\n",
      "[nltk_data]    |   Package punkt_tab is already up-to-date!\n",
      "[nltk_data]    | Downloading package qc to\n",
      "[nltk_data]    |     C:\\Users\\HP\\AppData\\Roaming\\nltk_data...\n",
      "[nltk_data]    |   Unzipping corpora\\qc.zip.\n",
      "[nltk_data]    | Downloading package reuters to\n",
      "[nltk_data]    |     C:\\Users\\HP\\AppData\\Roaming\\nltk_data...\n",
      "[nltk_data]    | Downloading package rslp to\n",
      "[nltk_data]    |     C:\\Users\\HP\\AppData\\Roaming\\nltk_data...\n",
      "[nltk_data]    |   Unzipping stemmers\\rslp.zip.\n",
      "[nltk_data]    | Downloading package rte to\n",
      "[nltk_data]    |     C:\\Users\\HP\\AppData\\Roaming\\nltk_data...\n",
      "[nltk_data]    |   Unzipping corpora\\rte.zip.\n",
      "[nltk_data]    | Downloading package sample_grammars to\n",
      "[nltk_data]    |     C:\\Users\\HP\\AppData\\Roaming\\nltk_data...\n",
      "[nltk_data]    |   Unzipping grammars\\sample_grammars.zip.\n",
      "[nltk_data]    | Downloading package semcor to\n",
      "[nltk_data]    |     C:\\Users\\HP\\AppData\\Roaming\\nltk_data...\n",
      "[nltk_data]    | Downloading package senseval to\n",
      "[nltk_data]    |     C:\\Users\\HP\\AppData\\Roaming\\nltk_data...\n",
      "[nltk_data]    |   Unzipping corpora\\senseval.zip.\n",
      "[nltk_data]    | Downloading package sentence_polarity to\n",
      "[nltk_data]    |     C:\\Users\\HP\\AppData\\Roaming\\nltk_data...\n",
      "[nltk_data]    |   Unzipping corpora\\sentence_polarity.zip.\n",
      "[nltk_data]    | Downloading package sentiwordnet to\n",
      "[nltk_data]    |     C:\\Users\\HP\\AppData\\Roaming\\nltk_data...\n",
      "[nltk_data]    |   Unzipping corpora\\sentiwordnet.zip.\n",
      "[nltk_data]    | Downloading package shakespeare to\n",
      "[nltk_data]    |     C:\\Users\\HP\\AppData\\Roaming\\nltk_data...\n",
      "[nltk_data]    |   Unzipping corpora\\shakespeare.zip.\n",
      "[nltk_data]    | Downloading package sinica_treebank to\n",
      "[nltk_data]    |     C:\\Users\\HP\\AppData\\Roaming\\nltk_data...\n",
      "[nltk_data]    |   Unzipping corpora\\sinica_treebank.zip.\n",
      "[nltk_data]    | Downloading package smultron to\n",
      "[nltk_data]    |     C:\\Users\\HP\\AppData\\Roaming\\nltk_data...\n",
      "[nltk_data]    |   Unzipping corpora\\smultron.zip.\n",
      "[nltk_data]    | Downloading package snowball_data to\n",
      "[nltk_data]    |     C:\\Users\\HP\\AppData\\Roaming\\nltk_data...\n",
      "[nltk_data]    | Downloading package spanish_grammars to\n",
      "[nltk_data]    |     C:\\Users\\HP\\AppData\\Roaming\\nltk_data...\n",
      "[nltk_data]    |   Unzipping grammars\\spanish_grammars.zip.\n",
      "[nltk_data]    | Downloading package state_union to\n",
      "[nltk_data]    |     C:\\Users\\HP\\AppData\\Roaming\\nltk_data...\n",
      "[nltk_data]    |   Unzipping corpora\\state_union.zip.\n",
      "[nltk_data]    | Downloading package stopwords to\n",
      "[nltk_data]    |     C:\\Users\\HP\\AppData\\Roaming\\nltk_data...\n",
      "[nltk_data]    |   Unzipping corpora\\stopwords.zip.\n",
      "[nltk_data]    | Downloading package subjectivity to\n",
      "[nltk_data]    |     C:\\Users\\HP\\AppData\\Roaming\\nltk_data...\n",
      "[nltk_data]    |   Unzipping corpora\\subjectivity.zip.\n",
      "[nltk_data]    | Downloading package swadesh to\n",
      "[nltk_data]    |     C:\\Users\\HP\\AppData\\Roaming\\nltk_data...\n",
      "[nltk_data]    |   Unzipping corpora\\swadesh.zip.\n",
      "[nltk_data]    | Downloading package switchboard to\n",
      "[nltk_data]    |     C:\\Users\\HP\\AppData\\Roaming\\nltk_data...\n",
      "[nltk_data]    |   Unzipping corpora\\switchboard.zip.\n",
      "[nltk_data]    | Downloading package tagsets to\n",
      "[nltk_data]    |     C:\\Users\\HP\\AppData\\Roaming\\nltk_data...\n",
      "[nltk_data]    |   Unzipping help\\tagsets.zip.\n",
      "[nltk_data]    | Downloading package tagsets_json to\n",
      "[nltk_data]    |     C:\\Users\\HP\\AppData\\Roaming\\nltk_data...\n",
      "[nltk_data]    |   Unzipping help\\tagsets_json.zip.\n",
      "[nltk_data]    | Downloading package timit to\n",
      "[nltk_data]    |     C:\\Users\\HP\\AppData\\Roaming\\nltk_data...\n",
      "[nltk_data]    |   Unzipping corpora\\timit.zip.\n",
      "[nltk_data]    | Downloading package toolbox to\n",
      "[nltk_data]    |     C:\\Users\\HP\\AppData\\Roaming\\nltk_data...\n",
      "[nltk_data]    |   Unzipping corpora\\toolbox.zip.\n",
      "[nltk_data]    | Downloading package treebank to\n",
      "[nltk_data]    |     C:\\Users\\HP\\AppData\\Roaming\\nltk_data...\n",
      "[nltk_data]    |   Unzipping corpora\\treebank.zip.\n",
      "[nltk_data]    | Downloading package twitter_samples to\n",
      "[nltk_data]    |     C:\\Users\\HP\\AppData\\Roaming\\nltk_data...\n",
      "[nltk_data]    |   Unzipping corpora\\twitter_samples.zip.\n",
      "[nltk_data]    | Downloading package udhr to\n",
      "[nltk_data]    |     C:\\Users\\HP\\AppData\\Roaming\\nltk_data...\n",
      "[nltk_data]    |   Unzipping corpora\\udhr.zip.\n",
      "[nltk_data]    | Downloading package udhr2 to\n",
      "[nltk_data]    |     C:\\Users\\HP\\AppData\\Roaming\\nltk_data...\n",
      "[nltk_data]    |   Unzipping corpora\\udhr2.zip.\n",
      "[nltk_data]    | Downloading package unicode_samples to\n",
      "[nltk_data]    |     C:\\Users\\HP\\AppData\\Roaming\\nltk_data...\n",
      "[nltk_data]    |   Unzipping corpora\\unicode_samples.zip.\n",
      "[nltk_data]    | Downloading package universal_tagset to\n",
      "[nltk_data]    |     C:\\Users\\HP\\AppData\\Roaming\\nltk_data...\n",
      "[nltk_data]    |   Unzipping taggers\\universal_tagset.zip.\n",
      "[nltk_data]    | Downloading package universal_treebanks_v20 to\n",
      "[nltk_data]    |     C:\\Users\\HP\\AppData\\Roaming\\nltk_data...\n",
      "[nltk_data]    | Downloading package vader_lexicon to\n",
      "[nltk_data]    |     C:\\Users\\HP\\AppData\\Roaming\\nltk_data...\n",
      "[nltk_data]    | Downloading package verbnet to\n",
      "[nltk_data]    |     C:\\Users\\HP\\AppData\\Roaming\\nltk_data...\n",
      "[nltk_data]    |   Unzipping corpora\\verbnet.zip.\n",
      "[nltk_data]    | Downloading package verbnet3 to\n",
      "[nltk_data]    |     C:\\Users\\HP\\AppData\\Roaming\\nltk_data...\n",
      "[nltk_data]    |   Unzipping corpora\\verbnet3.zip.\n",
      "[nltk_data]    | Downloading package webtext to\n",
      "[nltk_data]    |     C:\\Users\\HP\\AppData\\Roaming\\nltk_data...\n",
      "[nltk_data]    |   Unzipping corpora\\webtext.zip.\n",
      "[nltk_data]    | Downloading package wmt15_eval to\n",
      "[nltk_data]    |     C:\\Users\\HP\\AppData\\Roaming\\nltk_data...\n",
      "[nltk_data]    |   Unzipping models\\wmt15_eval.zip.\n",
      "[nltk_data]    | Downloading package word2vec_sample to\n",
      "[nltk_data]    |     C:\\Users\\HP\\AppData\\Roaming\\nltk_data...\n",
      "[nltk_data]    |   Unzipping models\\word2vec_sample.zip.\n",
      "[nltk_data]    | Downloading package wordnet to\n",
      "[nltk_data]    |     C:\\Users\\HP\\AppData\\Roaming\\nltk_data...\n",
      "[nltk_data]    | Downloading package wordnet2021 to\n",
      "[nltk_data]    |     C:\\Users\\HP\\AppData\\Roaming\\nltk_data...\n",
      "[nltk_data]    | Downloading package wordnet2022 to\n",
      "[nltk_data]    |     C:\\Users\\HP\\AppData\\Roaming\\nltk_data...\n",
      "[nltk_data]    |   Unzipping corpora\\wordnet2022.zip.\n",
      "[nltk_data]    | Downloading package wordnet31 to\n",
      "[nltk_data]    |     C:\\Users\\HP\\AppData\\Roaming\\nltk_data...\n",
      "[nltk_data]    | Downloading package wordnet_ic to\n",
      "[nltk_data]    |     C:\\Users\\HP\\AppData\\Roaming\\nltk_data...\n",
      "[nltk_data]    |   Unzipping corpora\\wordnet_ic.zip.\n",
      "[nltk_data]    | Downloading package words to\n",
      "[nltk_data]    |     C:\\Users\\HP\\AppData\\Roaming\\nltk_data...\n",
      "[nltk_data]    |   Unzipping corpora\\words.zip.\n",
      "[nltk_data]    | Downloading package ycoe to\n",
      "[nltk_data]    |     C:\\Users\\HP\\AppData\\Roaming\\nltk_data...\n",
      "[nltk_data]    |   Unzipping corpora\\ycoe.zip.\n",
      "[nltk_data]    | \n",
      "[nltk_data]  Done downloading collection all\n"
     ]
    },
    {
     "data": {
      "text/plain": [
       "True"
      ]
     },
     "execution_count": 142,
     "metadata": {},
     "output_type": "execute_result"
    }
   ],
   "source": [
    "nltk.download(\"all\")"
   ]
  },
  {
   "cell_type": "code",
   "execution_count": 128,
   "id": "90ed0993-3a9c-4c3c-8a05-748530b4f7e0",
   "metadata": {},
   "outputs": [],
   "source": [
    "from nltk.stem import WordNetLemmatizer\n",
    "lemantizer = WordNetLemmatizer()"
   ]
  },
  {
   "cell_type": "code",
   "execution_count": 138,
   "id": "eec6d419-91f5-4f02-b909-f13a3c80d1e2",
   "metadata": {},
   "outputs": [],
   "source": [
    "def lemmatization(tokens):\n",
    "    res = []\n",
    "    for token in tokens:\n",
    "        res.append(lemantizer.lemmatize(token))\n",
    "    return res"
   ]
  },
  {
   "cell_type": "code",
   "execution_count": 167,
   "id": "9fd8b16f-ebb9-4212-8ef1-712667ce3c2c",
   "metadata": {},
   "outputs": [
    {
     "name": "stdout",
     "output_type": "stream",
     "text": [
      "['2016', '2019', ',', 'state', 'forest', 'department', 'theâ', 'bjpâ', 'government', 'launched', 'â€˜green', 'maharashtraâ€™', 'drive', 'aim', 'plant', '50', 'crore', 'tree', 'across', 'state', 'four-year', 'period', '.', 'october', '2019', ',', 'government', 'claimed', 'surpassed', 'target', 'planting', '33', 'crore', 'tree', 'july-september', '2019.â', 'indian', 'expressâ', 'found', 'non-forest', 'agency', 'â€', '”', 'gram', 'panchayat', 'â€', '”', 'tasked', 'planting', 'tree', 'uploaded', 'mandatory', 'audio-visual', 'proof', 'tree', 'plantation', 'drive', 'specially', 'created', 'portal', '.', 'pune', 'revenue', 'division', ',', 'claimed', 'gram', 'panchayat', 'planted', '1.7', 'crore', 'sapling', ';', 'however', ',', 'evidence', 'uploaded', '87', 'per', 'cent', '(', '1.49', 'crore', ')', 'sapling', '.', 'also', ',', '59', 'government', 'agency', 'involved', 'drive', 'many', '38', 'submitted', 'survival', 'report', 'sapling', '.', 'year', ',', 'target', 'set', 'forest', 'department', 'comparatively', 'modest', '.', 'example', ',', 'pune', 'circle', 'â€', '”', 'comprises', 'three', 'division', 'pune', 'solapur', 'district', 'â€', '”', 'planned', 'plant', '17', 'lakh', 'sapling', 'forest', 'land', '.', 'however', ',', 'may', 'meet', 'target', 'due', 'unavailability', 'fund', '.', 'last', 'year', 'pune', 'circle', 'planted', '70', 'lakh', 'sapling', 'forest', 'land', '.', 'pune', 'division', 'â€', '”', 'comprises', 'six', 'talukas', 'namely', 'maval', ',', 'mulshi', ',', 'daund', ',', 'indapur', ',', 'baramati', 'havveli', 'â€', '”', 'preparation', 'done', 'plantation', '4', 'lakh', 'tree', 'special', 'emphasis', 'teakwood', '.', 'national', 'forest', 'policy', 'aim', 'emphasizes', 'maintaining', '33', '%', 'countryâ€™s', 'geographical', 'area', 'forest', 'green', 'cover', '.', 'view', 'part', '50', 'crore', 'plantation', 'programme', 'within', 'maharashtra', ',', 'maharashtra', 'forest', 'department', 'aim', 'plant', '4', 'crore', 'sapling', 'state', 'betweenâ', '1st', 'july', '7th', ',', '2017â', 'celebrateâ', 'â€˜vanmohotsavâ€™', '.', 'â', 'plantation', 'programme', ',', 'announced', '2016', 'aim', 'plantingâ', '2', 'crore', 'tree', '1stâ', 'july', '2016', 'resounding', 'success', 'final', 'total', 'reported', 'figure', 'ofâ', '2.82', 'crore', 'sapling', 'plantedâ', 'single', 'day', '.', 'maintain', 'consistency', 'platform', 'without', 'affecting', 'momentum', ',', 'forest', 'department', 'set', 'target', 'plantation', '4', 'crore', ',', '13', 'crore', '33', 'crore', 'sapling', 'mission', '50', 'crore', 'plantation', 'shall', 'accomplished', 'three', 'consecutive', 'year', 'viz', '.', '2017', ',', '2018', '2019', '.', 'â', 'theâ', '4', 'croreâ', 'sapling', 'year', '2017', 'planted', 'vanmohotsav', ',', 'â', 'july', '1st', 'july', '7thâ', 'state-wide', 'driveâ', 'involvement', '33', 'government', 'department', 'along', 'student', 'school', 'college', ',', 'n', ',', 'ncc', ',', 'csr', ',', 'ngo', ',', 'railway', ',', 'national', 'highway', ',', 'defence', ',', 'nabard', 'stakeholder', 'society', '.', 'â', 'first', 'kind', ',', 'aâ', '24-hourâ', 'toll', 'freeâ', 'helpline', 'number', '1926â', 'called', 'â€˜hello', 'forestâ€™', 'set', 'provide', 'information', 'regarding', 'plantation', ',', 'protection', 'mass', 'awareness', '.', 'forest', 'department', 'created', 'aâ', 'mobile', 'application', 'called', 'â€˜my', 'plantsâ€™â', 'record', 'detail', 'plantation', 'number', ',', 'specie', 'location', 'computer', 'system', 'forest', 'department', '.', 'volunteer', 'individual', ',', 'collective', 'organizational', 'level', 'download', 'use', 'application', 'record', 'tree', 'plantation', 'work', 'application', ',', 'operational', '1stâ', 'july', '7thâ', 'july.â', 'â', 'consonance', 'public', 'participation', ',', 'maharashtra', 'forest', 'department', 'initiated', 'â€˜maharashtra', 'harit', 'senaâ€™/', 'â€˜green', 'armyâ€™', 'body', 'dedicated', 'volunteer', 'participate', 'plantation', ',', 'protection', ',', 'activity', 'forest', ',', 'wildlife', ',', 'related', 'sector', 'around', 'year', '.', 'individual', 'organisation', 'interested', 'volunteering', 'register', 'green', 'army', 'websiteâ', 'www.greenarmy.mahaforest.gov.in', 'â', 'integrated', 'drive', 'set', 'place', 'ensure', 'seamless', 'successful', 'participation', 'stakeholder', 'society', ',', 'especially', 'public', '.']\n"
     ]
    }
   ],
   "source": [
    "lemmantized_res = lemmatization(res)\n",
    "print(lemmantized_res)"
   ]
  },
  {
   "cell_type": "code",
   "execution_count": 169,
   "id": "2c2ffc7a-e1b9-4258-adec-ef52f5dace0d",
   "metadata": {},
   "outputs": [
    {
     "name": "stdout",
     "output_type": "stream",
     "text": [
      "['million', 'people', 'india', 'took', 'part', 'annual', 'tree', 'planting', 'drive', 'sunday', '.', '250', 'million', 'sapling', 'planted', 'single', 'day', 'across', 'country', \"'s\", 'most-populous', 'state', '.', 'campaign', 'led', 'uttar', 'pradesh', 'state', 'government', 'official', ',', 'lawmaker', ',', 'activist', ',', 'bid', 'reduce', 'carbon', 'emission', 'combat', 'climate', 'change', '.', 'tree', 'planted', '?', 'sapling', 'planted', 'volunteer', 'forest', ',', 'farm', ',', 'school', ',', 'along', 'riverbank', 'highway', '.', '``', 'committed', 'increasing', 'forest', 'cover', 'uttar', 'pradesh', '15', '%', 'total', 'land', 'area', 'next', 'five', 'year', ',', \"''\", 'said', 'state', 'forest', 'official', 'manoj', 'singh', '.', 'according', 'another', 'government', 'official', ',', 'forest', 'cover', 'state', 'increased', 'last', 'year', '.', '``', 'increase', '127', 'sqare', 'kilometer', '[', '79', 'sqare', 'mile', ']', 'â', 'forest', 'cover', 'uttar', 'pradesh', 'compared', '2017', ',', \"''\", 'state', 'government', 'spokesperson', 'quoted', 'saying', 'inâ', 'indian', 'express', 'newspaper', '.', '``', 'also', 'increase', 'tree', 'plant', '.', 'tree', 'cover', 'increased', '3.05', '%', ',', 'compared', 'national', 'average', '2.89', '%', ',', \"''\", 'official', 'said', ',', 'citing', '2019', 'forest', 'survey', 'india', 'report', '.', 'many', 'sapling', 'survive', '?', 'uttar', 'pradesh', 'state', 'forest', 'minister', 'dara', 'singh', 'said', 'long-term', 'survival', 'sapling', 'remains', 'concern', ',', 'adding', 'usually', '60', '%', 'sapling', 'survive', '.', 'rest', 'succumb', 'disease', 'lack', 'water', '.', 'however', ',', 'said', 'thatâ', '80', '%', 'sapling', 'planted', 'last', 'four', 'annual', 'drive', 'survived', '.', '``', 'region', 'plantation', 'carried', 'geo-tagged', 'ascertain', 'exactly', 'happened', ',', \"''\", 'chauhan', 'told', 'pioneer', 'newspaper', '.', '``', 'sapling', 'carry', 'qr', 'code', 'official', 'maintain', 'record', 'verify', 'whether', 'sapling', 'survived', '.', 'besides', ',', 'team', 'formed', 'monitor', 'progress', 'plantation', 'drive', ',', \"''\", 'said', '.', 'extent', 'india', \"'s\", 'tree', 'planting', 'project', '?', 'india', 'vowed', 'third', 'total', 'land', 'area', ',', '95', 'million', 'hectare', ',', 'forest', 'tree', 'cover', '2030', '.', 'government', 'allocated', '$', '6.2', 'billion', '(', 'â‚¬5.2', 'billion', ')', 'tree-planting', 'across', 'country', '.', 'however', ',', 'industrial', 'development', 'rapidly', 'growing', 'population', 'put', 'stress', 'land', '.']\n"
     ]
    }
   ],
   "source": [
    "lemmantized_res2 = lemmatization(res2)\n",
    "print(lemmantized_res2)"
   ]
  },
  {
   "cell_type": "markdown",
   "id": "927bc384-c268-4968-965c-77846a863369",
   "metadata": {},
   "source": [
    "## TF-IDF"
   ]
  },
  {
   "cell_type": "code",
   "execution_count": 147,
   "id": "299a6808-d590-4ea4-88da-f1272425af4f",
   "metadata": {},
   "outputs": [],
   "source": [
    "def calculate_tf(tokens):\n",
    "    tf_dict = dict()\n",
    "    unique_tokens = set(tokens)\n",
    "    for token in unique_tokens:\n",
    "        tf_dict[token] = tokens.count(token)/len(tokens)\n",
    "    return tf_dict\n",
    "    "
   ]
  },
  {
   "cell_type": "code",
   "execution_count": 151,
   "id": "172c85fa-94d8-4014-85d0-f94d1f255725",
   "metadata": {},
   "outputs": [],
   "source": [
    "def calculate_idf(tokens1, tokens2):\n",
    "    N=2\n",
    "    idf = dict()\n",
    "    all_tokens = tokens1 + tokens2\n",
    "    for token in all_tokens:\n",
    "        f = 0\n",
    "        if token in tokens1:\n",
    "            f+=1\n",
    "        if token in tokens2:\n",
    "            f+=1\n",
    "        idf[token] = math.log(N/f)\n",
    "    return idf"
   ]
  },
  {
   "cell_type": "code",
   "execution_count": 153,
   "id": "6773e77e-16db-4ee0-8488-cc8e8dd475f4",
   "metadata": {},
   "outputs": [],
   "source": [
    "def calculate_tfidf(tokens, tf, idf):\n",
    "    tfidf = []\n",
    "    for token in tokens:\n",
    "        tfidf.append(tf[token]*idf[token])\n",
    "    return tfidf"
   ]
  },
  {
   "cell_type": "code",
   "execution_count": 171,
   "id": "bd204017-3999-4a59-9809-04495a3ac9c9",
   "metadata": {},
   "outputs": [],
   "source": [
    "tf = calculate_tf(lemmantized_res)\n",
    "tf2 = calculate_tf(lemmantized_res2)"
   ]
  },
  {
   "cell_type": "code",
   "execution_count": 173,
   "id": "a25377b7-faae-4f6d-a072-0ea7d7070fb6",
   "metadata": {},
   "outputs": [
    {
     "name": "stdout",
     "output_type": "stream",
     "text": [
      "{'example': 0.002207505518763797, 'affecting': 0.002207505518763797, 'target': 0.008830022075055188, 'state': 0.006622516556291391, 'emphasizes': 0.002207505518763797, 'toll': 0.002207505518763797, '%': 0.002207505518763797, 'stakeholder': 0.004415011037527594, 'participation': 0.004415011037527594, 'audio-visual': 0.002207505518763797, 'department': 0.017660044150110375, 'three': 0.004415011037527594, 'â€˜hello': 0.002207505518763797, 'volunteer': 0.004415011037527594, 'websiteâ': 0.002207505518763797, 'student': 0.002207505518763797, 'theâ': 0.004415011037527594, 'mobile': 0.002207505518763797, 'portal': 0.002207505518763797, 'â€˜my': 0.002207505518763797, 'six': 0.002207505518763797, 'maintaining': 0.002207505518763797, 'government': 0.008830022075055188, 'geographical': 0.002207505518763797, 'without': 0.002207505518763797, 'kind': 0.002207505518763797, '7th': 0.002207505518763797, '2019': 0.006622516556291391, '2': 0.002207505518763797, 'figure': 0.002207505518763797, 'green': 0.004415011037527594, 'detail': 0.002207505518763797, 'csr': 0.002207505518763797, 'provide': 0.002207505518763797, '2.82': 0.002207505518763797, 'may': 0.002207505518763797, 'expressâ': 0.002207505518763797, 'aâ': 0.004415011037527594, 'mass': 0.002207505518763797, 'year': 0.011037527593818985, 'freeâ': 0.002207505518763797, 'cent': 0.002207505518763797, 'harit': 0.002207505518763797, 'daund': 0.002207505518763797, 'uploaded': 0.004415011037527594, 'driveâ': 0.002207505518763797, 'drive': 0.008830022075055188, 'level': 0.002207505518763797, 'district': 0.002207505518763797, 'forest': 0.026490066225165563, 'protection': 0.004415011037527594, 'many': 0.002207505518763797, 'regarding': 0.002207505518763797, 'aim': 0.008830022075055188, ')': 0.002207505518763797, 'comprises': 0.004415011037527594, '2018': 0.002207505518763797, '1stâ': 0.004415011037527594, 'defence': 0.002207505518763797, 'operational': 0.002207505518763797, 'area': 0.002207505518763797, 'senaâ€™/': 0.002207505518763797, 'survival': 0.002207505518763797, 'national': 0.004415011037527594, '87': 0.002207505518763797, 'register': 0.002207505518763797, 'school': 0.002207505518763797, 'havveli': 0.002207505518763797, 'maintain': 0.002207505518763797, 'lakh': 0.006622516556291391, 'also': 0.002207505518763797, 'baramati': 0.002207505518763797, 'plantingâ': 0.002207505518763797, 'due': 0.002207505518763797, 'croreâ': 0.002207505518763797, 'revenue': 0.002207505518763797, '1.49': 0.002207505518763797, '13': 0.002207505518763797, '.': 0.04194260485651214, 'download': 0.002207505518763797, 'consonance': 0.002207505518763797, 'consecutive': 0.002207505518763797, '2016': 0.006622516556291391, 'viz': 0.002207505518763797, 'maharashtraâ€™': 0.002207505518763797, 'namely': 0.002207505518763797, 'betweenâ': 0.002207505518763797, 'plant': 0.006622516556291391, 'single': 0.002207505518763797, 'maharashtra': 0.006622516556291391, 'especially': 0.002207505518763797, 'non-forest': 0.002207505518763797, 'report': 0.002207505518763797, 'solapur': 0.002207505518763797, 'number': 0.004415011037527594, 'seamless': 0.002207505518763797, '1926â': 0.002207505518763797, 'teakwood': 0.002207505518763797, 'volunteering': 0.002207505518763797, 'successful': 0.002207505518763797, 'specially': 0.002207505518763797, 'use': 0.002207505518763797, 'circle': 0.004415011037527594, 'proof': 0.002207505518763797, 'policy': 0.002207505518763797, 'nabard': 0.002207505518763797, 'location': 0.002207505518763797, 'launched': 0.002207505518763797, 'along': 0.002207505518763797, 'tree': 0.01545253863134658, '2017': 0.004415011037527594, '17': 0.002207505518763797, 'railway': 0.002207505518763797, '59': 0.002207505518763797, 'highway': 0.002207505518763797, 'meet': 0.002207505518763797, 'wildlife': 0.002207505518763797, 'indian': 0.002207505518763797, 'computer': 0.002207505518763797, '38': 0.002207505518763797, 'ngo': 0.002207505518763797, 'panchayat': 0.004415011037527594, 'day': 0.002207505518763797, 'system': 0.002207505518763797, 'reported': 0.002207505518763797, 'â€˜green': 0.004415011037527594, '2017â': 0.002207505518763797, 'individual': 0.004415011037527594, 'unavailability': 0.002207505518763797, 'special': 0.002207505518763797, 'part': 0.002207505518763797, 'college': 0.002207505518763797, ';': 0.002207505518763797, 'within': 0.002207505518763797, 'july-september': 0.002207505518763797, 'plantedâ': 0.002207505518763797, 'four-year': 0.002207505518763797, 'period': 0.002207505518763797, 'collective': 0.002207505518763797, 'sapling': 0.019867549668874173, '”': 0.013245033112582781, 'sector': 0.002207505518763797, 'dedicated': 0.002207505518763797, 'mulshi': 0.002207505518763797, 'work': 0.002207505518763797, 'per': 0.002207505518763797, 'evidence': 0.002207505518763797, 'land': 0.004415011037527594, 'specie': 0.002207505518763797, 'however': 0.004415011037527594, 'participate': 0.002207505518763797, 'programme': 0.004415011037527594, 'armyâ€™': 0.002207505518763797, 'surpassed': 0.002207505518763797, '1.7': 0.002207505518763797, 'last': 0.002207505518763797, 'total': 0.002207505518763797, 'view': 0.002207505518763797, 'agency': 0.004415011037527594, 'division': 0.006622516556291391, 'gram': 0.004415011037527594, 'involvement': 0.002207505518763797, '50': 0.006622516556291391, 'countryâ€™s': 0.002207505518763797, 'crore': 0.026490066225165563, 'public': 0.004415011037527594, 'planting': 0.004415011037527594, 'first': 0.002207505518763797, 'announced': 0.002207505518763797, 'indapur': 0.002207505518763797, 'platform': 0.002207505518763797, 'momentum': 0.002207505518763797, '2019.â': 0.002207505518763797, 'preparation': 0.002207505518763797, 'state-wide': 0.002207505518763797, 'talukas': 0.002207505518763797, 'application': 0.006622516556291391, 'initiated': 0.002207505518763797, 'related': 0.002207505518763797, 'interested': 0.002207505518763797, 'planted': 0.006622516556291391, 'fund': 0.002207505518763797, 'cover': 0.002207505518763797, 'helpline': 0.002207505518763797, '24-hourâ': 0.002207505518763797, 'modest': 0.002207505518763797, 'bjpâ': 0.002207505518763797, 'plantsâ€™â': 0.002207505518763797, 'â': 0.013245033112582781, 'resounding': 0.002207505518763797, 'ncc': 0.002207505518763797, 'tasked': 0.002207505518763797, 'plantation': 0.02207505518763797, 'awareness': 0.002207505518763797, 'consistency': 0.002207505518763797, 'around': 0.002207505518763797, 'emphasis': 0.002207505518763797, 'vanmohotsav': 0.002207505518763797, 'society': 0.004415011037527594, 'â€˜vanmohotsavâ€™': 0.002207505518763797, 'found': 0.002207505518763797, 'pune': 0.011037527593818985, '1st': 0.004415011037527594, 'celebrateâ': 0.002207505518763797, ',': 0.08388520971302428, 'accomplished': 0.002207505518763797, '7thâ': 0.004415011037527594, 'organizational': 0.002207505518763797, 'organisation': 0.002207505518763797, 'called': 0.004415011037527594, '(': 0.002207505518763797, 'body': 0.002207505518763797, 'set': 0.008830022075055188, 'success': 0.002207505518763797, 'july.â': 0.002207505518763797, 'â€˜maharashtra': 0.002207505518763797, 'october': 0.002207505518763797, 'submitted': 0.002207505518763797, 'â€': 0.013245033112582781, 'army': 0.002207505518763797, 'place': 0.002207505518763797, 'shall': 0.002207505518763797, 'planned': 0.002207505518763797, 'maval': 0.002207505518763797, 'across': 0.002207505518763797, 'done': 0.002207505518763797, 'integrated': 0.002207505518763797, 'ofâ': 0.002207505518763797, 'mission': 0.002207505518763797, 'july': 0.011037527593818985, 'mandatory': 0.002207505518763797, 'comparatively': 0.002207505518763797, 'record': 0.004415011037527594, 'final': 0.002207505518763797, 'information': 0.002207505518763797, 'ensure': 0.002207505518763797, '4': 0.008830022075055188, 'www.greenarmy.mahaforest.gov.in': 0.002207505518763797, 'activity': 0.002207505518763797, '70': 0.002207505518763797, 'involved': 0.002207505518763797, 'forestâ€™': 0.002207505518763797, 'created': 0.004415011037527594, 'n': 0.002207505518763797, 'claimed': 0.004415011037527594, '33': 0.008830022075055188}\n",
      "{'change': 0.0035087719298245615, 'state': 0.021052631578947368, '6.2': 0.0035087719298245615, 'inâ': 0.0035087719298245615, 'allocated': 0.0035087719298245615, 'uttar': 0.014035087719298246, '``': 0.017543859649122806, '%': 0.017543859649122806, 'mile': 0.0035087719298245615, 'increase': 0.007017543859649123, 'rapidly': 0.0035087719298245615, 'volunteer': 0.0035087719298245615, 'five': 0.0035087719298245615, 'spokesperson': 0.0035087719298245615, 'increased': 0.007017543859649123, 'newspaper': 0.007017543859649123, 'region': 0.0035087719298245615, '?': 0.010526315789473684, 'government': 0.014035087719298246, '2019': 0.0035087719298245615, 'qr': 0.0035087719298245615, 'formed': 0.0035087719298245615, '95': 0.0035087719298245615, \"''\": 0.017543859649122806, 'year': 0.007017543859649123, 'said': 0.017543859649122806, 'activist': 0.0035087719298245615, 'most-populous': 0.0035087719298245615, \"'s\": 0.007017543859649123, 'population': 0.0035087719298245615, 'drive': 0.010526315789473684, 'reduce': 0.0035087719298245615, 'another': 0.0035087719298245615, 'disease': 0.0035087719298245615, 'forest': 0.028070175438596492, 'survived': 0.007017543859649123, 'chauhan': 0.0035087719298245615, 'many': 0.0035087719298245615, 'development': 0.0035087719298245615, ')': 0.0035087719298245615, '79': 0.0035087719298245615, '2.89': 0.0035087719298245615, 'took': 0.0035087719298245615, 'area': 0.007017543859649123, 'manoj': 0.0035087719298245615, 'country': 0.007017543859649123, 'survival': 0.0035087719298245615, 'national': 0.0035087719298245615, 'million': 0.010526315789473684, 'school': 0.0035087719298245615, 'sunday': 0.0035087719298245615, 'maintain': 0.0035087719298245615, 'carried': 0.0035087719298245615, 'also': 0.0035087719298245615, 'happened': 0.0035087719298245615, ']': 0.0035087719298245615, 'adding': 0.0035087719298245615, 'progress': 0.0035087719298245615, '.': 0.06315789473684211, 'team': 0.0035087719298245615, 'verify': 0.0035087719298245615, 'express': 0.0035087719298245615, 'single': 0.0035087719298245615, 'plant': 0.0035087719298245615, 'report': 0.0035087719298245615, 'ascertain': 0.0035087719298245615, 'vowed': 0.0035087719298245615, 'committed': 0.0035087719298245615, 'long-term': 0.0035087719298245615, '80': 0.0035087719298245615, 'average': 0.0035087719298245615, 'third': 0.0035087719298245615, 'billion': 0.007017543859649123, 'pradesh': 0.014035087719298246, 'saying': 0.0035087719298245615, '$': 0.0035087719298245615, 'along': 0.0035087719298245615, 'tree': 0.021052631578947368, '2017': 0.0035087719298245615, 'lawmaker': 0.0035087719298245615, 'monitor': 0.0035087719298245615, '127': 0.0035087719298245615, 'singh': 0.007017543859649123, 'according': 0.0035087719298245615, '60': 0.0035087719298245615, 'highway': 0.0035087719298245615, 'indian': 0.0035087719298245615, 'day': 0.0035087719298245615, 'â‚¬5.2': 0.0035087719298245615, 'pioneer': 0.0035087719298245615, 'carbon': 0.0035087719298245615, 'part': 0.0035087719298245615, 'kilometer': 0.0035087719298245615, 'stress': 0.0035087719298245615, 'increasing': 0.0035087719298245615, 'sapling': 0.028070175438596492, 'extent': 0.0035087719298245615, 'besides': 0.0035087719298245615, 'land': 0.010526315789473684, 'however': 0.007017543859649123, 'water': 0.0035087719298245615, 'last': 0.007017543859649123, 'growing': 0.0035087719298245615, 'total': 0.007017543859649123, 'tree-planting': 0.0035087719298245615, 'annual': 0.007017543859649123, 'rest': 0.0035087719298245615, 'combat': 0.0035087719298245615, 'emission': 0.0035087719298245615, '3.05': 0.0035087719298245615, '250': 0.0035087719298245615, 'usually': 0.0035087719298245615, 'dara': 0.0035087719298245615, 'official': 0.017543859649122806, 'compared': 0.007017543859649123, 'planting': 0.007017543859649123, 'climate': 0.0035087719298245615, 'minister': 0.0035087719298245615, 'put': 0.0035087719298245615, 'lack': 0.0035087719298245615, 'hectare': 0.0035087719298245615, 'planted': 0.014035087719298246, 'cover': 0.017543859649122806, 'remains': 0.0035087719298245615, 'sqare': 0.007017543859649123, 'people': 0.0035087719298245615, 'â': 0.0035087719298245615, 'whether': 0.0035087719298245615, '2030': 0.0035087719298245615, 'farm': 0.0035087719298245615, 'told': 0.0035087719298245615, 'campaign': 0.0035087719298245615, 'plantation': 0.007017543859649123, ',': 0.07017543859649122, '[': 0.0035087719298245615, 'concern': 0.0035087719298245615, 'four': 0.0035087719298245615, 'citing': 0.0035087719298245615, 'next': 0.0035087719298245615, '(': 0.0035087719298245615, 'exactly': 0.0035087719298245615, 'riverbank': 0.0035087719298245615, 'industrial': 0.0035087719298245615, '15': 0.0035087719298245615, 'led': 0.0035087719298245615, 'india': 0.014035087719298246, 'code': 0.0035087719298245615, 'succumb': 0.0035087719298245615, 'survey': 0.0035087719298245615, 'quoted': 0.0035087719298245615, 'across': 0.007017543859649123, 'survive': 0.007017543859649123, 'bid': 0.0035087719298245615, 'carry': 0.0035087719298245615, 'record': 0.0035087719298245615, 'project': 0.0035087719298245615, 'geo-tagged': 0.0035087719298245615, 'thatâ': 0.0035087719298245615}\n"
     ]
    }
   ],
   "source": [
    "print(tf)\n",
    "print(tf2)"
   ]
  },
  {
   "cell_type": "code",
   "execution_count": 177,
   "id": "449a411c-8f37-4270-a26a-531b9886d9d3",
   "metadata": {},
   "outputs": [],
   "source": [
    "idf = calculate_idf(lemmantized_res, lemmantized_res2)"
   ]
  },
  {
   "cell_type": "code",
   "execution_count": 183,
   "id": "8d51bdb6-fbfe-4c6c-9c76-2a4a37057317",
   "metadata": {},
   "outputs": [],
   "source": [
    "tfidf1 = calculate_tfidf(lemmantized_res,tf, idf)\n",
    "tfidf2 = calculate_tfidf(lemmantized_res2,tf2, idf)"
   ]
  },
  {
   "cell_type": "code",
   "execution_count": 195,
   "id": "2e74ccde-a840-4f55-90b6-4586bb02b518",
   "metadata": {},
   "outputs": [
    {
     "name": "stdout",
     "output_type": "stream",
     "text": [
      "Printing tfidf1:  [0.004590378679204935, 0.0, 0.0, 0.0, 0.0, 0.012241009811213161, 0.0030602524528032904, 0.0015301262264016452, 0.0, 0.0015301262264016452, 0.0030602524528032904, 0.0015301262264016452, 0.0, 0.006120504905606581, 0.0, 0.004590378679204935, 0.01836151471681974, 0.0, 0.0, 0.0, 0.0015301262264016452, 0.0015301262264016452, 0.0, 0.0015301262264016452, 0.0, 0.0, 0.0, 0.0030602524528032904, 0.0015301262264016452, 0.006120504905606581, 0.0, 0.006120504905606581, 0.01836151471681974, 0.0, 0.0015301262264016452, 0.0015301262264016452, 0.0, 0.0015301262264016452, 0.0015301262264016452, 0.0015301262264016452, 0.0030602524528032904, 0.00918075735840987, 0.00918075735840987, 0.0030602524528032904, 0.0030602524528032904, 0.00918075735840987, 0.00918075735840987, 0.0015301262264016452, 0.0, 0.0, 0.0030602524528032904, 0.0015301262264016452, 0.0015301262264016452, 0.0015301262264016452, 0.0, 0.0, 0.0, 0.0015301262264016452, 0.0030602524528032904, 0.0015301262264016452, 0.0, 0.007650631132008227, 0.0015301262264016452, 0.004590378679204935, 0.0, 0.0030602524528032904, 0.0030602524528032904, 0.0030602524528032904, 0.0, 0.0015301262264016452, 0.01836151471681974, 0.0, 0.0015301262264016452, 0.0, 0.0, 0.0015301262264016452, 0.0030602524528032904, 0.0015301262264016452, 0.0015301262264016452, 0.0015301262264016452, 0.0, 0.0015301262264016452, 0.01836151471681974, 0.0, 0.0, 0.0, 0.0, 0.0, 0.0015301262264016452, 0.0, 0.0030602524528032904, 0.0015301262264016452, 0.0, 0.0, 0.0015301262264016452, 0.0015301262264016452, 0.0, 0.0, 0.0, 0.0, 0.0, 0.0, 0.006120504905606581, 0.006120504905606581, 0.0, 0.012241009811213161, 0.0015301262264016452, 0.0015301262264016452, 0.0, 0.0015301262264016452, 0.0, 0.007650631132008227, 0.0030602524528032904, 0.00918075735840987, 0.00918075735840987, 0.0030602524528032904, 0.0030602524528032904, 0.004590378679204935, 0.007650631132008227, 0.0015301262264016452, 0.0015301262264016452, 0.00918075735840987, 0.00918075735840987, 0.0015301262264016452, 0.0, 0.0015301262264016452, 0.004590378679204935, 0.0, 0.0, 0.0, 0.0, 0.0, 0.0, 0.0015301262264016452, 0.0015301262264016452, 0.006120504905606581, 0.0015301262264016452, 0.0015301262264016452, 0.0015301262264016452, 0.0, 0.0, 0.0, 0.007650631132008227, 0.0030602524528032904, 0.0, 0.0015301262264016452, 0.004590378679204935, 0.0, 0.0, 0.0, 0.0, 0.007650631132008227, 0.004590378679204935, 0.00918075735840987, 0.00918075735840987, 0.0030602524528032904, 0.0015301262264016452, 0.0015301262264016452, 0.0015301262264016452, 0.0015301262264016452, 0.0, 0.0015301262264016452, 0.0, 0.0015301262264016452, 0.0, 0.0015301262264016452, 0.0, 0.0015301262264016452, 0.0015301262264016452, 0.00918075735840987, 0.00918075735840987, 0.0015301262264016452, 0.0015301262264016452, 0.0, 0.006120504905606581, 0.004590378679204935, 0.0, 0.0015301262264016452, 0.0015301262264016452, 0.0015301262264016452, 0.0, 0.0, 0.0, 0.0015301262264016452, 0.006120504905606581, 0.0015301262264016452, 0.0015301262264016452, 0.006120504905606581, 0.0, 0.0015301262264016452, 0.0015301262264016452, 0.0, 0.0, 0.0030602524528032904, 0.0, 0.0, 0.0015301262264016452, 0.0, 0.004590378679204935, 0.01836151471681974, 0.0, 0.0030602524528032904, 0.0015301262264016452, 0.004590378679204935, 0.0, 0.004590378679204935, 0.0, 0.012241009811213161, 0.006120504905606581, 0.0, 0.006120504905606581, 0.01836151471681974, 0.0, 0.0, 0.0015301262264016452, 0.0030602524528032904, 0.007650631132008227, 0.0015301262264016452, 0.0, 0.0015301262264016452, 0.0015301262264016452, 0.0015301262264016452, 0.0, 0.0, 0.0, 0.0030602524528032904, 0.0, 0.0015301262264016452, 0.004590378679204935, 0.006120504905606581, 0.0015301262264016452, 0.0015301262264016452, 0.01836151471681974, 0.0, 0.0030602524528032904, 0.007650631132008227, 0.004590378679204935, 0.0015301262264016452, 0.0015301262264016452, 0.0015301262264016452, 0.0, 0.0015301262264016452, 0.0015301262264016452, 0.0015301262264016452, 0.0015301262264016452, 0.01836151471681974, 0.0, 0.0015301262264016452, 0.0, 0.0, 0.0, 0.0, 0.0015301262264016452, 0.0015301262264016452, 0.0015301262264016452, 0.0015301262264016452, 0.0015301262264016452, 0.0, 0.0, 0.012241009811213161, 0.006120504905606581, 0.006120504905606581, 0.0, 0.006120504905606581, 0.01836151471681974, 0.0, 0.0015301262264016452, 0.01836151471681974, 0.006120504905606581, 0.01836151471681974, 0.0, 0.0015301262264016452, 0.004590378679204935, 0.01836151471681974, 0.0, 0.0015301262264016452, 0.0015301262264016452, 0.0030602524528032904, 0.0015301262264016452, 0.0, 0.0015301262264016452, 0.0, 0.0, 0.0, 0.0015301262264016452, 0.0, 0.0, 0.0, 0.0030602524528032904, 0.006120504905606581, 0.0015301262264016452, 0.0, 0.0, 0.0, 0.0, 0.0015301262264016452, 0.0, 0.0, 0.007650631132008227, 0.0030602524528032904, 0.007650631132008227, 0.0030602524528032904, 0.0015301262264016452, 0.0015301262264016452, 0.0015301262264016452, 0.006120504905606581, 0.0, 0.012241009811213161, 0.0, 0.0015301262264016452, 0.0, 0.0015301262264016452, 0.0, 0.0015301262264016452, 0.0, 0.0015301262264016452, 0.0, 0.0015301262264016452, 0.0, 0.0015301262264016452, 0.0, 0.0015301262264016452, 0.0, 0.0, 0.0, 0.0, 0.0015301262264016452, 0.0, 0.0015301262264016452, 0.0030602524528032904, 0.0030602524528032904, 0.0, 0.0, 0.0015301262264016452, 0.0015301262264016452, 0.0, 0.0030602524528032904, 0.0015301262264016452, 0.0015301262264016452, 0.0015301262264016452, 0.0015301262264016452, 0.0030602524528032904, 0.0015301262264016452, 0.0030602524528032904, 0.0015301262264016452, 0.0015301262264016452, 0.006120504905606581, 0.0015301262264016452, 0.0015301262264016452, 0.0015301262264016452, 0.0, 0.0, 0.0030602524528032904, 0.0015301262264016452, 0.0015301262264016452, 0.0, 0.0, 0.012241009811213161, 0.0030602524528032904, 0.0030602524528032904, 0.0015301262264016452, 0.004590378679204935, 0.0030602524528032904, 0.0015301262264016452, 0.0015301262264016452, 0.0, 0.0015301262264016452, 0.0, 0.0030602524528032904, 0.0, 0.0015301262264016452, 0.0015301262264016452, 0.0015301262264016452, 0.0015301262264016452, 0.0, 0.012241009811213161, 0.0, 0.0, 0.0030602524528032904, 0.0, 0.0015301262264016452, 0.0015301262264016452, 0.0015301262264016452, 0.0015301262264016452, 0.0015301262264016452, 0.004590378679204935, 0.0, 0.0, 0.0, 0.0015301262264016452, 0.004590378679204935, 0.0, 0.0015301262264016452, 0.0030602524528032904, 0.007650631132008227, 0.0030602524528032904, 0.0015301262264016452, 0.0, 0.0015301262264016452, 0.0030602524528032904, 0.0030602524528032904, 0.0, 0.004590378679204935, 0.0, 0.012241009811213161, 0.0015301262264016452, 0.0015301262264016452, 0.0015301262264016452, 0.0015301262264016452, 0.0030602524528032904, 0.0015301262264016452, 0.0015301262264016452, 0.0015301262264016452, 0.0, 0.0015301262264016452, 0.0, 0.0, 0.0030602524528032904, 0.0, 0.0015301262264016452, 0.0, 0.0, 0.0015301262264016452, 0.0, 0.0015301262264016452, 0.0015301262264016452, 0.0015301262264016452, 0.0, 0.0, 0.0030602524528032904, 0.0015301262264016452, 0.0015301262264016452, 0.0015301262264016452, 0.0015301262264016452, 0.0030602524528032904, 0.0015301262264016452, 0.0015301262264016452, 0.0015301262264016452, 0.0, 0.0015301262264016452, 0.0, 0.006120504905606581, 0.0015301262264016452, 0.0015301262264016452, 0.0015301262264016452, 0.0015301262264016452, 0.0030602524528032904, 0.0030602524528032904, 0.0030602524528032904, 0.0, 0.0015301262264016452, 0.0030602524528032904, 0.0]\n",
      " ------------------------------------------\n",
      "Printing tfidf2:  [0.0072962861111573185, 0.002432095370385773, 0.009728381481543091, 0.002432095370385773, 0.0, 0.004864190740771546, 0.0, 0.0, 0.0, 0.002432095370385773, 0.0, 0.002432095370385773, 0.0072962861111573185, 0.0, 0.0, 0.0, 0.0, 0.0, 0.004864190740771546, 0.004864190740771546, 0.002432095370385773, 0.0, 0.0, 0.002432095370385773, 0.002432095370385773, 0.009728381481543091, 0.009728381481543091, 0.0, 0.0, 0.012160476851928864, 0.0, 0.002432095370385773, 0.0, 0.002432095370385773, 0.0, 0.002432095370385773, 0.002432095370385773, 0.002432095370385773, 0.002432095370385773, 0.002432095370385773, 0.002432095370385773, 0.002432095370385773, 0.0, 0.0, 0.0, 0.0072962861111573185, 0.0, 0.0, 0.0, 0.0, 0.0, 0.002432095370385773, 0.0, 0.0, 0.0, 0.0, 0.002432095370385773, 0.0, 0.0, 0.012160476851928864, 0.002432095370385773, 0.002432095370385773, 0.0, 0.0, 0.009728381481543091, 0.009728381481543091, 0.002432095370385773, 0.0, 0.0, 0.0, 0.0, 0.002432095370385773, 0.002432095370385773, 0.0, 0.0, 0.012160476851928864, 0.012160476851928864, 0.0, 0.0, 0.012160476851928864, 0.002432095370385773, 0.004864190740771546, 0.0, 0.002432095370385773, 0.002432095370385773, 0.0, 0.012160476851928864, 0.0, 0.0, 0.0, 0.0, 0.004864190740771546, 0.0, 0.0, 0.0, 0.012160476851928864, 0.004864190740771546, 0.002432095370385773, 0.004864190740771546, 0.002432095370385773, 0.002432095370385773, 0.002432095370385773, 0.004864190740771546, 0.002432095370385773, 0.002432095370385773, 0.0, 0.0, 0.0, 0.009728381481543091, 0.009728381481543091, 0.004864190740771546, 0.0, 0.0, 0.012160476851928864, 0.0, 0.0, 0.002432095370385773, 0.002432095370385773, 0.002432095370385773, 0.002432095370385773, 0.0, 0.002432095370385773, 0.004864190740771546, 0.0, 0.012160476851928864, 0.0, 0.004864190740771546, 0.0, 0.0, 0.0, 0.0, 0.0, 0.004864190740771546, 0.002432095370385773, 0.0, 0.0, 0.004864190740771546, 0.0, 0.002432095370385773, 0.002432095370385773, 0.0, 0.0, 0.012160476851928864, 0.012160476851928864, 0.012160476851928864, 0.0, 0.002432095370385773, 0.0, 0.0, 0.002432095370385773, 0.009728381481543091, 0.0, 0.0, 0.0, 0.0, 0.004864190740771546, 0.0072962861111573185, 0.009728381481543091, 0.009728381481543091, 0.0, 0.0, 0.002432095370385773, 0.002432095370385773, 0.004864190740771546, 0.012160476851928864, 0.002432095370385773, 0.0, 0.0, 0.002432095370385773, 0.002432095370385773, 0.0, 0.002432095370385773, 0.002432095370385773, 0.002432095370385773, 0.0, 0.0, 0.004864190740771546, 0.0, 0.002432095370385773, 0.002432095370385773, 0.002432095370385773, 0.002432095370385773, 0.002432095370385773, 0.0, 0.0, 0.0, 0.012160476851928864, 0.002432095370385773, 0.002432095370385773, 0.0, 0.0, 0.0, 0.0, 0.002432095370385773, 0.004864190740771546, 0.0, 0.004864190740771546, 0.0, 0.012160476851928864, 0.002432095370385773, 0.0, 0.002432095370385773, 0.002432095370385773, 0.002432095370385773, 0.002432095370385773, 0.002432095370385773, 0.0, 0.012160476851928864, 0.002432095370385773, 0.002432095370385773, 0.002432095370385773, 0.004864190740771546, 0.0, 0.012160476851928864, 0.0, 0.002432095370385773, 0.002432095370385773, 0.002432095370385773, 0.012160476851928864, 0.0, 0.0, 0.002432095370385773, 0.002432095370385773, 0.0, 0.004864190740771546, 0.0, 0.002432095370385773, 0.0, 0.002432095370385773, 0.002432095370385773, 0.002432095370385773, 0.002432095370385773, 0.0, 0.0, 0.0, 0.012160476851928864, 0.012160476851928864, 0.0, 0.002432095370385773, 0.009728381481543091, 0.004864190740771546, 0.0, 0.0, 0.002432095370385773, 0.0072962861111573185, 0.009728381481543091, 0.002432095370385773, 0.002432095370385773, 0.0, 0.0, 0.0, 0.0, 0.002432095370385773, 0.0072962861111573185, 0.002432095370385773, 0.0, 0.0, 0.0, 0.0, 0.002432095370385773, 0.0, 0.0, 0.002432095370385773, 0.002432095370385773, 0.002432095370385773, 0.004864190740771546, 0.0, 0.002432095370385773, 0.004864190740771546, 0.0, 0.002432095370385773, 0.0, 0.004864190740771546, 0.0, 0.0, 0.0, 0.002432095370385773, 0.002432095370385773, 0.002432095370385773, 0.002432095370385773, 0.002432095370385773, 0.002432095370385773, 0.002432095370385773, 0.0, 0.0]\n"
     ]
    }
   ],
   "source": [
    "print(\"Printing tfidf1: \", tfidf1)\n",
    "print(\" ------------------------------------------\")\n",
    "print(\"Printing tfidf2: \", tfidf2)"
   ]
  },
  {
   "cell_type": "code",
   "execution_count": null,
   "id": "63d19250-702f-48d1-8c6c-81fc0c3ad7aa",
   "metadata": {},
   "outputs": [],
   "source": []
  }
 ],
 "metadata": {
  "kernelspec": {
   "display_name": "Python 3 (ipykernel)",
   "language": "python",
   "name": "python3"
  },
  "language_info": {
   "codemirror_mode": {
    "name": "ipython",
    "version": 3
   },
   "file_extension": ".py",
   "mimetype": "text/x-python",
   "name": "python",
   "nbconvert_exporter": "python",
   "pygments_lexer": "ipython3",
   "version": "3.12.4"
  }
 },
 "nbformat": 4,
 "nbformat_minor": 5
}
